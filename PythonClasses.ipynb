{
 "cells": [
  {
   "cell_type": "markdown",
   "metadata": {},
   "source": [
    "# Creating Python classes for an online fantasy RPG inspired by Lord of the Rings\n",
    "\n",
    "<p>\n",
    "This project explores Python classes in the context of a role play game.\n",
    "It creates characters known from the Tolkien universe and defines actions.\n",
    "It must not be taken too serious. \n",
    "</p> \n",
    "\n",
    "<p>\n",
    "It explores these topics and others:\n",
    "</p> \n",
    "\n",
    "<ul>\n",
    "  <li>Classes and objects</li>\n",
    "  <li>States and behaviors of objects</li>\n",
    "  <li>Attributes + methods</li>\n",
    "  <li>Instance and class data</li>  \n",
    "  <li>Class inheritance</li>\n",
    "  <li>Customizing functions</li>   \n",
    "  <li>Object equality</li>\n",
    "  <li>String comparison</li>  \n",
    "  <li>Exceptions</li> \n",
    "  <li>Polymorphism and the Liskov substitution principle</li>  \n",
    "  <li>Access restriction</li> \n",
    "\n",
    "</ul> \n",
    "\n"
   ]
  },
  {
   "cell_type": "code",
   "execution_count": 59,
   "metadata": {},
   "outputs": [],
   "source": [
    "import os\n",
    "cwd = os.getcwd()\n",
    "# print(cwd)"
   ]
  },
  {
   "cell_type": "markdown",
   "metadata": {},
   "source": [
    "## Classes and objects\n",
    "<p>\n",
    "In object orientated programming (OOP) a class is a template for creating <b>objects</b>. \n",
    "A class compromises all objects of a <b>class</b>. \n",
    "Objects are entities of a class. The class is a container for the objects. \n",
    "What you can do with an object is limited by the template of the class.\n",
    "In Python the class is accessible with the type function.\n",
    "</p>"
   ]
  },
  {
   "cell_type": "code",
   "execution_count": 60,
   "metadata": {},
   "outputs": [
    {
     "data": {
      "text/plain": [
       "int"
      ]
     },
     "execution_count": 60,
     "metadata": {},
     "output_type": "execute_result"
    }
   ],
   "source": [
    "# the number 5 is of class int\n",
    "type(5)"
   ]
  },
  {
   "cell_type": "code",
   "execution_count": 61,
   "metadata": {},
   "outputs": [
    {
     "data": {
      "text/plain": [
       "list"
      ]
     },
     "execution_count": 61,
     "metadata": {},
     "output_type": "execute_result"
    }
   ],
   "source": [
    "x = [5.1, \"car\", \"sun\", 3.45, True, \"yellow\", 333, 333, 333]\n",
    "type(x)"
   ]
  },
  {
   "cell_type": "code",
   "execution_count": 62,
   "metadata": {},
   "outputs": [
    {
     "name": "stdout",
     "output_type": "stream",
     "text": [
      "[(8100, 500, 78999), (3400, 673, 1000000), (434, 899, 122201)]\n",
      "<class 'list'>\n",
      "      0    1        2\n",
      "0  8100  500    78999\n",
      "1  3400  673  1000000\n",
      "2   434  899   122201\n"
     ]
    }
   ],
   "source": [
    "import pandas as pd\n",
    "\n",
    "numbers = [(8100, 500, 78999),\n",
    "           (3400, 673, 1000000),\n",
    "           (434, 899, 122201)]\n",
    "\n",
    "print(numbers)\n",
    "print(type(numbers))\n",
    "\n",
    "df = pd.DataFrame(data=numbers)\n",
    "\n",
    "print(df)"
   ]
  },
  {
   "cell_type": "code",
   "execution_count": 63,
   "metadata": {},
   "outputs": [
    {
     "name": "stdout",
     "output_type": "stream",
     "text": [
      "[63  5 42 54 47 78 73 11 11 58 12 88 92 12 97 91 63 90 96 33]\n"
     ]
    }
   ],
   "source": [
    "import numpy as np\n",
    "\n",
    "npArray = np.random.randint(low=1, high=100, size=20)\n",
    "print(npArray)"
   ]
  },
  {
   "cell_type": "code",
   "execution_count": 64,
   "metadata": {},
   "outputs": [
    {
     "name": "stdout",
     "output_type": "stream",
     "text": [
      "<class 'numpy.ndarray'>\n"
     ]
    }
   ],
   "source": [
    "print(type(npArray))"
   ]
  },
  {
   "cell_type": "markdown",
   "metadata": {},
   "source": [
    "## States and behaviors of objects\n",
    "\n",
    "<p>\n",
    "Objects consist of <b>states and behaviors</b>.\n",
    "This is called <b>encapsulation</b>.\n",
    "States and behaviors are bundled into the object.\n",
    "The class defines the states and behaviors of an object. \n",
    "Some states and behaviors are possible and most others are not. \n",
    "</p>\n",
    "\n",
    "<p>\n",
    "Objects have always a condition or state. \n",
    "A table has got a plate. The state of a table is having a plate.\n",
    "Objects have most of the time in the real world and always in Python a purpose.\n",
    "The purpose is inevitable linked to a behavior.\n",
    "For realizing the purpose a special behavior or action is necessary.\n",
    "The behavior alters the state of the object.\n",
    "Things are placed on the table. \n",
    "</p> \n",
    "\n",
    "<p>\n",
    "The special states of a special object are called the attributes of an object.\n",
    "An object in a special state is called the variable of an object.\n",
    "Variables are embodiments of attributes within a section of possible states. \n",
    "</p>\n",
    "\n",
    "<p>\n",
    "The special behavior of an object is made possible by methods defined in the class. A<br>\n",
    "<b>Class</b> is a set or category of things having some property or attribute in common and differentiated from others by kind, type, or quality. In technical terms we can say that class is a blue print for individual objects with exact behaviour.<br>\n",
    "<a href=\"https://micropyramid.com/blog/understand-self-and-__init__-method-in-python-class/\" target=\"_blank\">micropyramid.com</a> \n",
    "</p>    \n",
    "    \n",
    "<p>    \n",
    "Methods are applied to execute a special behavior. \n",
    "Methods are using the function methodology or framework for execution.\n",
    "Applying methods mean applying functions.\n",
    "</p> \n",
    "\n",
    "<p>\n",
    "The attributes and methods of an object defined in the class \n",
    "are accessible with the dir function.\n",
    "</p> \n"
   ]
  },
  {
   "cell_type": "code",
   "execution_count": 65,
   "metadata": {},
   "outputs": [
    {
     "name": "stdout",
     "output_type": "stream",
     "text": [
      "<class 'list'>\n",
      "['__add__', '__class__', '__contains__', '__delattr__', '__delitem__', '__dir__', '__doc__', '__eq__', '__format__', '__ge__', '__getattribute__', '__getitem__', '__gt__', '__hash__', '__iadd__', '__imul__', '__init__', '__init_subclass__', '__iter__', '__le__', '__len__', '__lt__', '__mul__', '__ne__', '__new__', '__reduce__', '__reduce_ex__', '__repr__', '__reversed__', '__rmul__', '__setattr__', '__setitem__', '__sizeof__', '__str__', '__subclasshook__', 'append', 'clear', 'copy', 'count', 'extend', 'index', 'insert', 'pop', 'remove', 'reverse', 'sort']\n"
     ]
    }
   ],
   "source": [
    "print(type(x))\n",
    "print(dir(x))"
   ]
  },
  {
   "cell_type": "code",
   "execution_count": 66,
   "metadata": {},
   "outputs": [
    {
     "name": "stdout",
     "output_type": "stream",
     "text": [
      "[5.1, 'car', 'sun', 3.45, True, 'yellow', 333, 333, 333, 2222222]\n",
      "3\n"
     ]
    }
   ],
   "source": [
    "# the method append add the argument 2222222 to the list\n",
    "x.append(2222222)\n",
    "\n",
    "# the method count counts the argument 333\n",
    "print(x)\n",
    "print(x.count(333))"
   ]
  },
  {
   "cell_type": "code",
   "execution_count": 67,
   "metadata": {},
   "outputs": [
    {
     "name": "stdout",
     "output_type": "stream",
     "text": [
      "['T', '_AXIS_ALIASES', '_AXIS_IALIASES', '_AXIS_LEN', '_AXIS_NAMES', '_AXIS_NUMBERS', '_AXIS_ORDERS', '_AXIS_REVERSED', '__abs__', '__add__', '__and__', '__array__', '__array_priority__', '__array_wrap__', '__bool__', '__class__', '__contains__', '__copy__', '__deepcopy__', '__delattr__', '__delitem__', '__dict__', '__dir__', '__div__', '__doc__', '__eq__', '__finalize__', '__floordiv__', '__format__', '__ge__', '__getattr__', '__getattribute__', '__getitem__', '__getstate__', '__gt__', '__hash__', '__iadd__', '__iand__', '__ifloordiv__', '__imod__', '__imul__', '__init__', '__init_subclass__', '__invert__', '__ior__', '__ipow__', '__isub__', '__iter__', '__itruediv__', '__ixor__', '__le__', '__len__', '__lt__', '__matmul__', '__mod__', '__module__', '__mul__', '__ne__', '__neg__', '__new__', '__nonzero__', '__or__', '__pos__', '__pow__', '__radd__', '__rand__', '__rdiv__', '__reduce__', '__reduce_ex__', '__repr__', '__rfloordiv__', '__rmatmul__', '__rmod__', '__rmul__', '__ror__', '__round__', '__rpow__', '__rsub__', '__rtruediv__', '__rxor__', '__setattr__', '__setitem__', '__setstate__', '__sizeof__', '__str__', '__sub__', '__subclasshook__', '__truediv__', '__weakref__', '__xor__', '_accessors', '_add_numeric_operations', '_add_series_only_operations', '_add_series_or_dataframe_operations', '_agg_by_level', '_agg_examples_doc', '_agg_summary_and_see_also_doc', '_aggregate', '_aggregate_multiple_funcs', '_align_frame', '_align_series', '_box_col_values', '_box_item_values', '_builtin_table', '_check_inplace_setting', '_check_is_chained_assignment_possible', '_check_label_or_level_ambiguity', '_check_percentile', '_check_setitem_copy', '_clear_item_cache', '_clip_with_one_bound', '_clip_with_scalar', '_combine_const', '_combine_frame', '_combine_match_columns', '_combine_match_index', '_consolidate', '_consolidate_inplace', '_construct_axes_dict', '_construct_axes_dict_from', '_construct_axes_from_arguments', '_constructor', '_constructor_expanddim', '_constructor_sliced', '_convert', '_count_level', '_create_indexer', '_cython_table', '_data', '_deprecations', '_dir_additions', '_dir_deletions', '_drop_axis', '_drop_labels_or_levels', '_ensure_valid_index', '_find_valid_index', '_from_arrays', '_from_axes', '_get_agg_axis', '_get_axis', '_get_axis_name', '_get_axis_number', '_get_axis_resolvers', '_get_block_manager_axis', '_get_bool_data', '_get_cacher', '_get_index_resolvers', '_get_item_cache', '_get_label_or_level_values', '_get_numeric_data', '_get_space_character_free_column_resolvers', '_get_value', '_get_values', '_getitem_bool_array', '_getitem_frame', '_getitem_multilevel', '_gotitem', '_iget_item_cache', '_indexed_same', '_info_axis', '_info_axis_name', '_info_axis_number', '_info_repr', '_init_mgr', '_internal_get_values', '_internal_names', '_internal_names_set', '_is_builtin_func', '_is_cached', '_is_copy', '_is_cython_func', '_is_datelike_mixed_type', '_is_homogeneous_type', '_is_label_or_level_reference', '_is_label_reference', '_is_level_reference', '_is_mixed_type', '_is_numeric_mixed_type', '_is_view', '_ix', '_ixs', '_join_compat', '_maybe_cache_changed', '_maybe_update_cacher', '_metadata', '_needs_reindex_multi', '_obj_with_exclusions', '_protect_consolidate', '_reduce', '_reindex_axes', '_reindex_columns', '_reindex_index', '_reindex_multi', '_reindex_with_indexers', '_repr_data_resource_', '_repr_fits_horizontal_', '_repr_fits_vertical_', '_repr_html_', '_repr_latex_', '_reset_cache', '_reset_cacher', '_sanitize_column', '_selected_obj', '_selection', '_selection_list', '_selection_name', '_series', '_set_as_cached', '_set_axis', '_set_axis_name', '_set_is_copy', '_set_item', '_set_value', '_setitem_array', '_setitem_frame', '_setitem_slice', '_setup_axes', '_shallow_copy', '_slice', '_stat_axis', '_stat_axis_name', '_stat_axis_number', '_to_dict_of_blocks', '_try_aggregate_string_function', '_typ', '_unpickle_frame_compat', '_unpickle_matrix_compat', '_update_inplace', '_validate_dtype', '_values', '_where', '_xs', 'abs', 'add', 'add_prefix', 'add_suffix', 'agg', 'aggregate', 'align', 'all', 'any', 'append', 'apply', 'applymap', 'as_matrix', 'asfreq', 'asof', 'assign', 'astype', 'at', 'at_time', 'axes', 'between_time', 'bfill', 'bool', 'boxplot', 'clip', 'clip_lower', 'clip_upper', 'columns', 'combine', 'combine_first', 'compound', 'copy', 'corr', 'corrwith', 'count', 'cov', 'cummax', 'cummin', 'cumprod', 'cumsum', 'describe', 'diff', 'div', 'divide', 'dot', 'drop', 'drop_duplicates', 'droplevel', 'dropna', 'dtypes', 'duplicated', 'empty', 'eq', 'equals', 'eval', 'ewm', 'expanding', 'explode', 'ffill', 'fillna', 'filter', 'first', 'first_valid_index', 'floordiv', 'from_dict', 'from_records', 'ftypes', 'ge', 'get', 'get_dtype_counts', 'get_ftype_counts', 'get_values', 'groupby', 'gt', 'head', 'hist', 'iat', 'idxmax', 'idxmin', 'iloc', 'index', 'infer_objects', 'info', 'insert', 'interpolate', 'isin', 'isna', 'isnull', 'items', 'iteritems', 'iterrows', 'itertuples', 'ix', 'join', 'keys', 'kurt', 'kurtosis', 'last', 'last_valid_index', 'le', 'loc', 'lookup', 'lt', 'mad', 'mask', 'max', 'mean', 'median', 'melt', 'memory_usage', 'merge', 'min', 'mod', 'mode', 'mul', 'multiply', 'ndim', 'ne', 'nlargest', 'notna', 'notnull', 'nsmallest', 'nunique', 'pct_change', 'pipe', 'pivot', 'pivot_table', 'plot', 'pop', 'pow', 'prod', 'product', 'quantile', 'query', 'radd', 'rank', 'rdiv', 'reindex', 'reindex_like', 'rename', 'rename_axis', 'reorder_levels', 'replace', 'resample', 'reset_index', 'rfloordiv', 'rmod', 'rmul', 'rolling', 'round', 'rpow', 'rsub', 'rtruediv', 'sample', 'select_dtypes', 'sem', 'set_axis', 'set_index', 'shape', 'shift', 'size', 'skew', 'slice_shift', 'sort_index', 'sort_values', 'sparse', 'squeeze', 'stack', 'std', 'style', 'sub', 'subtract', 'sum', 'swapaxes', 'swaplevel', 'tail', 'take', 'to_clipboard', 'to_csv', 'to_dense', 'to_dict', 'to_excel', 'to_feather', 'to_gbq', 'to_hdf', 'to_html', 'to_json', 'to_latex', 'to_msgpack', 'to_numpy', 'to_parquet', 'to_period', 'to_pickle', 'to_records', 'to_sparse', 'to_sql', 'to_stata', 'to_string', 'to_timestamp', 'to_xarray', 'transform', 'transpose', 'truediv', 'truncate', 'tshift', 'tz_convert', 'tz_localize', 'unstack', 'update', 'values', 'var', 'where', 'xs']\n"
     ]
    }
   ],
   "source": [
    "print(dir(df))"
   ]
  },
  {
   "cell_type": "markdown",
   "metadata": {},
   "source": [
    "#### Methods of class numpy arrays."
   ]
  },
  {
   "cell_type": "code",
   "execution_count": 68,
   "metadata": {},
   "outputs": [
    {
     "data": {
      "text/plain": [
       "['T',\n",
       " '__abs__',\n",
       " '__add__',\n",
       " '__and__',\n",
       " '__array__',\n",
       " '__array_finalize__',\n",
       " '__array_function__',\n",
       " '__array_interface__',\n",
       " '__array_prepare__',\n",
       " '__array_priority__',\n",
       " '__array_struct__',\n",
       " '__array_ufunc__',\n",
       " '__array_wrap__',\n",
       " '__bool__',\n",
       " '__class__',\n",
       " '__complex__',\n",
       " '__contains__',\n",
       " '__copy__',\n",
       " '__deepcopy__',\n",
       " '__delattr__',\n",
       " '__delitem__',\n",
       " '__dir__',\n",
       " '__divmod__',\n",
       " '__doc__',\n",
       " '__eq__',\n",
       " '__float__',\n",
       " '__floordiv__',\n",
       " '__format__',\n",
       " '__ge__',\n",
       " '__getattribute__',\n",
       " '__getitem__',\n",
       " '__gt__',\n",
       " '__hash__',\n",
       " '__iadd__',\n",
       " '__iand__',\n",
       " '__ifloordiv__',\n",
       " '__ilshift__',\n",
       " '__imatmul__',\n",
       " '__imod__',\n",
       " '__imul__',\n",
       " '__index__',\n",
       " '__init__',\n",
       " '__init_subclass__',\n",
       " '__int__',\n",
       " '__invert__',\n",
       " '__ior__',\n",
       " '__ipow__',\n",
       " '__irshift__',\n",
       " '__isub__',\n",
       " '__iter__',\n",
       " '__itruediv__',\n",
       " '__ixor__',\n",
       " '__le__',\n",
       " '__len__',\n",
       " '__lshift__',\n",
       " '__lt__',\n",
       " '__matmul__',\n",
       " '__mod__',\n",
       " '__mul__',\n",
       " '__ne__',\n",
       " '__neg__',\n",
       " '__new__',\n",
       " '__or__',\n",
       " '__pos__',\n",
       " '__pow__',\n",
       " '__radd__',\n",
       " '__rand__',\n",
       " '__rdivmod__',\n",
       " '__reduce__',\n",
       " '__reduce_ex__',\n",
       " '__repr__',\n",
       " '__rfloordiv__',\n",
       " '__rlshift__',\n",
       " '__rmatmul__',\n",
       " '__rmod__',\n",
       " '__rmul__',\n",
       " '__ror__',\n",
       " '__rpow__',\n",
       " '__rrshift__',\n",
       " '__rshift__',\n",
       " '__rsub__',\n",
       " '__rtruediv__',\n",
       " '__rxor__',\n",
       " '__setattr__',\n",
       " '__setitem__',\n",
       " '__setstate__',\n",
       " '__sizeof__',\n",
       " '__str__',\n",
       " '__sub__',\n",
       " '__subclasshook__',\n",
       " '__truediv__',\n",
       " '__xor__',\n",
       " 'all',\n",
       " 'any',\n",
       " 'argmax',\n",
       " 'argmin',\n",
       " 'argpartition',\n",
       " 'argsort',\n",
       " 'astype',\n",
       " 'base',\n",
       " 'byteswap',\n",
       " 'choose',\n",
       " 'clip',\n",
       " 'compress',\n",
       " 'conj',\n",
       " 'conjugate',\n",
       " 'copy',\n",
       " 'ctypes',\n",
       " 'cumprod',\n",
       " 'cumsum',\n",
       " 'data',\n",
       " 'diagonal',\n",
       " 'dot',\n",
       " 'dtype',\n",
       " 'dump',\n",
       " 'dumps',\n",
       " 'fill',\n",
       " 'flags',\n",
       " 'flat',\n",
       " 'flatten',\n",
       " 'getfield',\n",
       " 'imag',\n",
       " 'item',\n",
       " 'itemset',\n",
       " 'itemsize',\n",
       " 'max',\n",
       " 'mean',\n",
       " 'min',\n",
       " 'nbytes',\n",
       " 'ndim',\n",
       " 'newbyteorder',\n",
       " 'nonzero',\n",
       " 'partition',\n",
       " 'prod',\n",
       " 'ptp',\n",
       " 'put',\n",
       " 'ravel',\n",
       " 'real',\n",
       " 'repeat',\n",
       " 'reshape',\n",
       " 'resize',\n",
       " 'round',\n",
       " 'searchsorted',\n",
       " 'setfield',\n",
       " 'setflags',\n",
       " 'shape',\n",
       " 'size',\n",
       " 'sort',\n",
       " 'squeeze',\n",
       " 'std',\n",
       " 'strides',\n",
       " 'sum',\n",
       " 'swapaxes',\n",
       " 'take',\n",
       " 'tobytes',\n",
       " 'tofile',\n",
       " 'tolist',\n",
       " 'tostring',\n",
       " 'trace',\n",
       " 'transpose',\n",
       " 'var',\n",
       " 'view']"
      ]
     },
     "execution_count": 68,
     "metadata": {},
     "output_type": "execute_result"
    }
   ],
   "source": [
    "dir(npArray)"
   ]
  },
  {
   "cell_type": "markdown",
   "metadata": {},
   "source": [
    "Applying functions on the Numpy array."
   ]
  },
  {
   "cell_type": "code",
   "execution_count": 69,
   "metadata": {},
   "outputs": [
    {
     "name": "stdout",
     "output_type": "stream",
     "text": [
      "55.8\n"
     ]
    }
   ],
   "source": [
    "npArray_mean = np.mean(npArray)\n",
    "print(npArray_mean)"
   ]
  },
  {
   "cell_type": "code",
   "execution_count": 70,
   "metadata": {},
   "outputs": [
    {
     "data": {
      "text/plain": [
       "array([  63,   68,  110,  164,  211,  289,  362,  373,  384,  442,  454,\n",
       "        542,  634,  646,  743,  834,  897,  987, 1083, 1116], dtype=int32)"
      ]
     },
     "execution_count": 70,
     "metadata": {},
     "output_type": "execute_result"
    }
   ],
   "source": [
    "np.cumsum(npArray)"
   ]
  },
  {
   "cell_type": "markdown",
   "metadata": {},
   "source": [
    "#### Creating an empty class of heros of middle earth with pass. \n",
    "This allows to create a class later to be equipped with objects."
   ]
  },
  {
   "cell_type": "code",
   "execution_count": 71,
   "metadata": {},
   "outputs": [],
   "source": [
    "class herosMiddleearth():\n",
    "    # beings are defined here\n",
    "    pass\n"
   ]
  },
  {
   "cell_type": "markdown",
   "metadata": {},
   "source": [
    "## Creating objects\n",
    "<p>\n",
    "Objects are instances of classes, which can perform the functionalities which are defined in the class.\n",
    "</p> "
   ]
  },
  {
   "cell_type": "code",
   "execution_count": 72,
   "metadata": {},
   "outputs": [],
   "source": [
    "Finrod = herosMiddleearth()\n",
    "Feanor = herosMiddleearth()\n",
    "Huron = herosMiddleearth()\n",
    "Turin = herosMiddleearth()"
   ]
  },
  {
   "cell_type": "code",
   "execution_count": 73,
   "metadata": {},
   "outputs": [
    {
     "name": "stdout",
     "output_type": "stream",
     "text": [
      "<__main__.herosMiddleearth object at 0x000001556B8AE848>\n",
      "['__class__', '__delattr__', '__dict__', '__dir__', '__doc__', '__eq__', '__format__', '__ge__', '__getattribute__', '__gt__', '__hash__', '__init__', '__init_subclass__', '__le__', '__lt__', '__module__', '__ne__', '__new__', '__reduce__', '__reduce_ex__', '__repr__', '__setattr__', '__sizeof__', '__str__', '__subclasshook__', '__weakref__']\n"
     ]
    }
   ],
   "source": [
    "print(Turin)\n",
    "print(dir(Turin))"
   ]
  },
  {
   "cell_type": "markdown",
   "metadata": {},
   "source": [
    "#### Creating attributes of objects with methods\n",
    "\n",
    "<p>\n",
    "The objects created here have not any <b>attribute</b> (characteristic, property, feature, trait, quality).\n",
    "This is of course we created a class empty of attributes. \n",
    "In the next step we want to create attributes for the class.\n",
    "Attributes are created with methods.\n",
    "Methods are simply function definition within classes.\n",
    "That is why methods are too large degree defined like any function in Python.\n",
    "But there is one important distinction.\n",
    "The first argument of any method is (by convention) always the <b>self</b> argument.\n",
    "The self argument is <b>self referential</b> and points to the class within the attribute is created.\n",
    "Essentially it is a place holder or container for objects created within in the class.\n",
    "</p>\n",
    "\n",
    "<p>\n",
    "\"Self\" represents the instance of the class. By using the \"self\" keyword we can access the attributes and methods of the class in python. <a href=\"https://micropyramid.com/blog/understand-self-and-__init__-method-in-python-class/\" target=\"_blank\">micropyramid.com</a> \n",
    "</p>\n",
    "\n",
    "<p>\n",
    "The first beings of middle earth, who gave names to the objects in the world were the elfs as we know.\n",
    "But they did not stop there. The names are attributes of objects. Let's play elfs.\n",
    "</p>\n"
   ]
  },
  {
   "cell_type": "code",
   "execution_count": 74,
   "metadata": {},
   "outputs": [],
   "source": [
    "class beingsMiddleearth():\n",
    "    def give_name(self, name):\n",
    "        # give name is the method applied for assigning names to objects\n",
    "        # self and name are attributes of the class \n",
    "        # the method is used to change the state of a clas object\n",
    "        self.name = name\n",
    "    "
   ]
  },
  {
   "cell_type": "code",
   "execution_count": 75,
   "metadata": {},
   "outputs": [
    {
     "data": {
      "text/plain": [
       "['__class__',\n",
       " '__delattr__',\n",
       " '__dict__',\n",
       " '__dir__',\n",
       " '__doc__',\n",
       " '__eq__',\n",
       " '__format__',\n",
       " '__ge__',\n",
       " '__getattribute__',\n",
       " '__gt__',\n",
       " '__hash__',\n",
       " '__init__',\n",
       " '__init_subclass__',\n",
       " '__le__',\n",
       " '__lt__',\n",
       " '__module__',\n",
       " '__ne__',\n",
       " '__new__',\n",
       " '__reduce__',\n",
       " '__reduce_ex__',\n",
       " '__repr__',\n",
       " '__setattr__',\n",
       " '__sizeof__',\n",
       " '__str__',\n",
       " '__subclasshook__',\n",
       " '__weakref__',\n",
       " 'give_name']"
      ]
     },
     "execution_count": 75,
     "metadata": {},
     "output_type": "execute_result"
    }
   ],
   "source": [
    "dir(beingsMiddleearth)"
   ]
  },
  {
   "cell_type": "markdown",
   "metadata": {},
   "source": [
    "The class beingsMiddleearth has got now a method give_name. \n",
    "The first sentinent beings created by Illuvatar were the elfs.\n",
    "The orcs are elfs defaced by Melkor.\n",
    "Special beings like dragons are excluded.\n",
    "Within a class numerous attributes can be defined. "
   ]
  },
  {
   "cell_type": "code",
   "execution_count": 76,
   "metadata": {},
   "outputs": [],
   "source": [
    "class beingsMiddleearth():\n",
    "    \n",
    "    \"\"\"A set of of methods generating the attributes of beings\"\"\"\n",
    "    \n",
    "    def give_name(self, name):\n",
    "        self.name = name\n",
    "    \n",
    "    # setting strength to 0 is the default value\n",
    "    def set_strength(self, new_strength = 0):\n",
    "        self.strength = new_strength\n",
    "        \n",
    "    def set_agility(self, new_agility = 0):\n",
    "        self.agility = new_agility\n",
    "        \n",
    "    def set_speed(self, new_speed = 0):\n",
    "        self.speed = new_speed\n",
    "    \n",
    "    # a method \n",
    "    def calc_manoeuvrability(self):\n",
    "        print(self.speed + self.agility)\n",
    "        \n",
    "    def set_magic(self, magic_craft=0, magic_power=0, magic_ability=0):\n",
    "        self.magic_craft = magic_craft\n",
    "        self.magic_power = magic_power\n",
    "        # magic ability is the sum of power and craft\n",
    "        self.magic_ability =  self.magic_craft + self.magic_power\n",
    "        \n",
    "        \n",
    "        "
   ]
  },
  {
   "cell_type": "code",
   "execution_count": 77,
   "metadata": {},
   "outputs": [
    {
     "name": "stdout",
     "output_type": "stream",
     "text": [
      "<__main__.beingsMiddleearth object at 0x000001556B8A4208>\n",
      "['__class__', '__delattr__', '__dict__', '__dir__', '__doc__', '__eq__', '__format__', '__ge__', '__getattribute__', '__gt__', '__hash__', '__init__', '__init_subclass__', '__le__', '__lt__', '__module__', '__ne__', '__new__', '__reduce__', '__reduce_ex__', '__repr__', '__setattr__', '__sizeof__', '__str__', '__subclasshook__', '__weakref__', 'calc_manoeuvrability', 'give_name', 'set_agility', 'set_magic', 'set_speed', 'set_strength']\n"
     ]
    }
   ],
   "source": [
    "being_1 = beingsMiddleearth()\n",
    "\n",
    "print(being_1)\n",
    "print(dir(being_1))\n",
    "\n",
    "being_2 = beingsMiddleearth()\n",
    "being_3 = beingsMiddleearth()\n",
    "being_4 = beingsMiddleearth()\n",
    "being_5 = beingsMiddleearth()\n",
    "being_6 = beingsMiddleearth()"
   ]
  },
  {
   "cell_type": "markdown",
   "metadata": {},
   "source": [
    "### Giving names"
   ]
  },
  {
   "cell_type": "code",
   "execution_count": 78,
   "metadata": {},
   "outputs": [
    {
     "name": "stdout",
     "output_type": "stream",
     "text": [
      "elf\n"
     ]
    }
   ],
   "source": [
    "being_1.give_name('elf')\n",
    "print(being_1.name)"
   ]
  },
  {
   "cell_type": "code",
   "execution_count": 79,
   "metadata": {},
   "outputs": [],
   "source": [
    "beings = [being_2, being_3, being_4, being_5, being_6]\n",
    "being_names = [\"dwarf\", \"ent\", \"orc\", \"human\", \"hobbit\"]\n",
    "\n",
    "for i,z in zip(beings, being_names):\n",
    "    i.give_name(z)"
   ]
  },
  {
   "cell_type": "markdown",
   "metadata": {},
   "source": [
    "The sentinent beings of middle earth have now the attributes of names. \n",
    "An object can have numerous characteristics created with methods."
   ]
  },
  {
   "cell_type": "code",
   "execution_count": 80,
   "metadata": {},
   "outputs": [
    {
     "data": {
      "text/plain": [
       "['__class__',\n",
       " '__delattr__',\n",
       " '__dict__',\n",
       " '__dir__',\n",
       " '__doc__',\n",
       " '__eq__',\n",
       " '__format__',\n",
       " '__ge__',\n",
       " '__getattribute__',\n",
       " '__gt__',\n",
       " '__hash__',\n",
       " '__init__',\n",
       " '__init_subclass__',\n",
       " '__le__',\n",
       " '__lt__',\n",
       " '__module__',\n",
       " '__ne__',\n",
       " '__new__',\n",
       " '__reduce__',\n",
       " '__reduce_ex__',\n",
       " '__repr__',\n",
       " '__setattr__',\n",
       " '__sizeof__',\n",
       " '__str__',\n",
       " '__subclasshook__',\n",
       " '__weakref__',\n",
       " 'calc_manoeuvrability',\n",
       " 'give_name',\n",
       " 'set_agility',\n",
       " 'set_magic',\n",
       " 'set_speed',\n",
       " 'set_strength']"
      ]
     },
     "execution_count": 80,
     "metadata": {},
     "output_type": "execute_result"
    }
   ],
   "source": [
    "dir(beingsMiddleearth)"
   ]
  },
  {
   "cell_type": "markdown",
   "metadata": {},
   "source": [
    "Further <b>attributes</b> of the object called elf are defined on an ordinal scale from 0 to 10."
   ]
  },
  {
   "cell_type": "code",
   "execution_count": 81,
   "metadata": {},
   "outputs": [
    {
     "name": "stdout",
     "output_type": "stream",
     "text": [
      "6\n",
      "10\n",
      "9\n"
     ]
    }
   ],
   "source": [
    "being_1.set_strength(6)\n",
    "being_1.set_agility(10)\n",
    "being_1.set_speed(9)\n",
    "\n",
    "print(being_1.strength)\n",
    "print(being_1.agility)\n",
    "print(being_1.speed)"
   ]
  },
  {
   "cell_type": "markdown",
   "metadata": {},
   "source": [
    "Speed and agility gives the manoeuvrability."
   ]
  },
  {
   "cell_type": "code",
   "execution_count": 82,
   "metadata": {},
   "outputs": [
    {
     "name": "stdout",
     "output_type": "stream",
     "text": [
      "19\n"
     ]
    }
   ],
   "source": [
    "being_1.calc_manoeuvrability()"
   ]
  },
  {
   "cell_type": "code",
   "execution_count": 83,
   "metadata": {},
   "outputs": [
    {
     "name": "stdout",
     "output_type": "stream",
     "text": [
      "8\n",
      "5\n",
      "Magic ability of elf: 13\n"
     ]
    }
   ],
   "source": [
    "being_1.set_magic(8,5)\n",
    "print(being_1.magic_craft)\n",
    "print(being_1.magic_power)\n",
    "\n",
    "print(\"Magic ability of {0}: {1}\".format(being_1.name, being_1.magic_ability))"
   ]
  },
  {
   "cell_type": "markdown",
   "metadata": {},
   "source": [
    "### The __init__() constructor method\n",
    "\n",
    "<p>\n",
    "Methods are creating attributes. \n",
    "However with a growing number of attributes the code is getting harder to understand.\n",
    "A technique for writing more maintainable and usable code is the Constructor __init__() method.\n",
    "With the init constructor the attributes are created when the object is created.\n",
    "Till then then constructor is stored in the class definition as a special kind of function.\n",
    "</p> \n",
    "\n",
    "<p>\n",
    "\"__init__\" is a reseved method in python classes. It is known as a constructor in object oriented concepts. This method called when an object is created from the class and it allow the class to initialize the attributes of a class. <a href=\"https://micropyramid.com/blog/understand-self-and-__init__-method-in-python-class/\" target=\"_blank\">micropyramid.com</a> \n",
    "</p> \n",
    "\n",
    "<p>\n",
    "Init is using the Self argument. The Self argument represents an instance in the class definition.\n",
    "Instance attributes are attached to the Self argument.\n",
    "Below house, name, wealth, underlings are instance attributes of self.\n",
    "The attributes are filled with data, when the instance is created.\n",
    "Below an instance of the class Lords is created.\n",
    "It is the instance Tuor with data like wealth or number of underlings.\n",
    "</p> "
   ]
  },
  {
   "cell_type": "code",
   "execution_count": 84,
   "metadata": {},
   "outputs": [],
   "source": [
    "class Lords:\n",
    "    \"\"\"Characteristics and attributes of the high Lords of middle earth\"\"\"\n",
    "    def __init__(self, house, name, wealth, underlings): # parameters \n",
    "        self.house = house # attribute\n",
    "        self.name = name # attribute\n",
    "        self.wealth = wealth # attribute in gold coins\n",
    "        self.underlings = underlings # attribute \n",
    "        print(\"How can I serve you, my lord?\")"
   ]
  },
  {
   "cell_type": "code",
   "execution_count": 85,
   "metadata": {},
   "outputs": [
    {
     "name": "stdout",
     "output_type": "stream",
     "text": [
      "How can I serve you, my lord?\n",
      "<__main__.Lords object at 0x000001556B7BFA88>\n",
      "House of Huor\n",
      "Tuor\n",
      "10000\n",
      "5000\n"
     ]
    }
   ],
   "source": [
    "# creating an instance of the class Lords\n",
    "Tuor = Lords(\"House of Huor\", \"Tuor\", 10000, 5000)\n",
    "\n",
    "print(Tuor) # adress in memory\n",
    "print(Tuor.house)\n",
    "print(Tuor.name)\n",
    "print(Tuor.wealth)\n",
    "print(Tuor.underlings)"
   ]
  },
  {
   "cell_type": "code",
   "execution_count": 86,
   "metadata": {},
   "outputs": [],
   "source": [
    "# default values are set like in functions\n",
    "# here a lord has at least a wealth of 1000 gold coins\n",
    "# Have you ever met a lord with less than 1000 gold coins? No!\n",
    "class Lords2:\n",
    "    def __init__(self, house, name,  underlings, wealth=1000): # parameters \n",
    "        self.house = house # attribute\n",
    "        self.name = name # attribute\n",
    "        self.wealth = wealth # attribute in gold coins\n",
    "        self.underlings = underlings # attribute \n",
    "        print(\"How much gold coins do you own, my lord?\")"
   ]
  },
  {
   "cell_type": "code",
   "execution_count": 87,
   "metadata": {},
   "outputs": [
    {
     "name": "stdout",
     "output_type": "stream",
     "text": [
      "How much gold coins do you own, my lord?\n"
     ]
    }
   ],
   "source": [
    "Turgon = Lords2(\"Finwe\", \"Turgon\", underlings=1200000)"
   ]
  },
  {
   "cell_type": "code",
   "execution_count": 88,
   "metadata": {},
   "outputs": [
    {
     "name": "stdout",
     "output_type": "stream",
     "text": [
      "Finwe\n",
      "Turgon\n",
      "1200000\n",
      "1000\n"
     ]
    }
   ],
   "source": [
    "print(Turgon.house)\n",
    "print(Turgon.name)\n",
    "print(Turgon.underlings)\n",
    "print(Turgon.wealth)"
   ]
  },
  {
   "cell_type": "markdown",
   "metadata": {},
   "source": [
    "#### Instance level and class level data\n",
    "\n",
    "<p> \n",
    "As observed above, when creating an instance of the class Lords called (Lord) Tuor,\n",
    "the data attached is only valid for this instance.\n",
    "The data was \"House of Huor\", \"Tuor\", 10000, 5000.\n",
    "It is only valid for the instance Tuor.\n",
    "This makes it <b>instance-level data</b>.\n",
    "However <b>class-level data</b> is valid for all instances of a class may it be Tuor or Feanor.\n",
    "</p>"
   ]
  },
  {
   "cell_type": "code",
   "execution_count": 89,
   "metadata": {},
   "outputs": [],
   "source": [
    "class Forces:\n",
    "  MIN_SOLDIERS = 1000   \n",
    "\n",
    "  def __init__(self, name, soldiers=MIN_SOLDIERS):\n",
    "      self.name = name\n",
    "      if soldiers >= Forces.MIN_SOLDIERS:\n",
    "        self.soldiers= soldiers\n",
    "      else:\n",
    "        self.soldiers = Forces.MIN_SOLDIERS\n",
    "  def reinforce(self, gain):\n",
    "    self.soldiers += gain     "
   ]
  },
  {
   "cell_type": "code",
   "execution_count": 90,
   "metadata": {},
   "outputs": [],
   "source": [
    "hurins_clan = Forces(\"Hurins clan\")"
   ]
  },
  {
   "cell_type": "code",
   "execution_count": 91,
   "metadata": {},
   "outputs": [
    {
     "name": "stdout",
     "output_type": "stream",
     "text": [
      "Hurins clan\n",
      "1000\n"
     ]
    }
   ],
   "source": [
    "print(hurins_clan.name)\n",
    "print(hurins_clan.soldiers)"
   ]
  },
  {
   "cell_type": "markdown",
   "metadata": {},
   "source": [
    "Hurins clan has got 1000 soldiers. This is the minimum number for every force.\n",
    "The minimum number of soldiers is shared among all instances of a class. \n",
    "It is a useful value for all instances of the class.\n",
    "This makes it <b>class-level data</b>."
   ]
  },
  {
   "cell_type": "code",
   "execution_count": 92,
   "metadata": {},
   "outputs": [],
   "source": [
    "dwarf_forces = Forces(\"Durin's army\", 35000)"
   ]
  },
  {
   "cell_type": "code",
   "execution_count": 93,
   "metadata": {},
   "outputs": [
    {
     "name": "stdout",
     "output_type": "stream",
     "text": [
      "Durin's army\n",
      "35000\n"
     ]
    }
   ],
   "source": [
    "print(dwarf_forces.name)\n",
    "print(dwarf_forces.soldiers)"
   ]
  },
  {
   "cell_type": "code",
   "execution_count": 94,
   "metadata": {},
   "outputs": [],
   "source": [
    "dwarf_forces.reinforce(11300)"
   ]
  },
  {
   "cell_type": "code",
   "execution_count": 95,
   "metadata": {},
   "outputs": [
    {
     "name": "stdout",
     "output_type": "stream",
     "text": [
      "46300\n"
     ]
    }
   ],
   "source": [
    "print(dwarf_forces.soldiers)"
   ]
  },
  {
   "cell_type": "markdown",
   "metadata": {},
   "source": [
    "#### Moving over Middle-earth\n",
    "\n",
    "<p>\n",
    "Our heros want to mover over the landscape of Middle-earth. \n",
    "Nothing better than a class to make them move properly.\n",
    "As Middle-earth is a vast continent we start with a relative simple class.\n",
    "</p>"
   ]
  },
  {
   "cell_type": "code",
   "execution_count": 96,
   "metadata": {},
   "outputs": [],
   "source": [
    "class Heros:\n",
    "    MAX_LOCATION = 25 # the hero is placed at a location\n",
    "    def __init__(self, location=0):\n",
    "        self.location = 0"
   ]
  },
  {
   "cell_type": "code",
   "execution_count": 97,
   "metadata": {},
   "outputs": [
    {
     "name": "stdout",
     "output_type": "stream",
     "text": [
      "25\n"
     ]
    }
   ],
   "source": [
    "print(Heros.MAX_LOCATION)"
   ]
  },
  {
   "cell_type": "code",
   "execution_count": 98,
   "metadata": {},
   "outputs": [
    {
     "name": "stdout",
     "output_type": "stream",
     "text": [
      "25\n"
     ]
    }
   ],
   "source": [
    "# create an object\n",
    "hero_1 = Heros()\n",
    "print(hero_1.MAX_LOCATION)\n",
    "\n",
    "# the object possess the class-level data MAX_LOCATION"
   ]
  },
  {
   "cell_type": "code",
   "execution_count": 99,
   "metadata": {},
   "outputs": [
    {
     "name": "stdout",
     "output_type": "stream",
     "text": [
      "IIIII\n",
      "-----\n"
     ]
    }
   ],
   "source": [
    "print(\"I\"*5) # I represents the hero\n",
    "print(\"-\"*5) # _ represents the steps by the hero, the hero moves on a line"
   ]
  },
  {
   "cell_type": "code",
   "execution_count": 100,
   "metadata": {},
   "outputs": [],
   "source": [
    "class Heros_2:\n",
    "    MAX_LOCATION = 10 # the hero is placed at the maximum location possible \n",
    "                      # or the borders of Middle-earth\n",
    "    MAX_SPEED = 5\n",
    "    \n",
    "    def __init__(self):\n",
    "        self.location = 0\n",
    "        \n",
    "    # shift method, shift characters over the landscape board\n",
    "    def shift(self, strides):\n",
    "        if self.location + strides < Heros_2.MAX_LOCATION:\n",
    "            self.location = self.location + strides\n",
    "        else:\n",
    "            self.location = Heros_2.MAX_LOCATION\n",
    "     \n",
    "    def depict(self):\n",
    "        depiction = \"-\" * self.location + \"I\" + \"-\" * (Heros_2.MAX_LOCATION - self.location)\n",
    "        print(depiction)\n",
    "            "
   ]
  },
  {
   "cell_type": "code",
   "execution_count": 101,
   "metadata": {},
   "outputs": [
    {
     "name": "stdout",
     "output_type": "stream",
     "text": [
      "I----------\n",
      "--I--------\n",
      "-------I---\n",
      "----------I\n"
     ]
    }
   ],
   "source": [
    "hero_2 = Heros_2()\n",
    "\n",
    "hero_2.shift(0); hero_2.depict()\n",
    "hero_2.shift(2); hero_2.depict()\n",
    "hero_2.shift(5); hero_2.depict()\n",
    "hero_2.shift(12); hero_2.depict()"
   ]
  },
  {
   "cell_type": "code",
   "execution_count": 102,
   "metadata": {},
   "outputs": [
    {
     "name": "stdout",
     "output_type": "stream",
     "text": [
      "5\n",
      "5\n",
      "5\n"
     ]
    }
   ],
   "source": [
    "hero_Beren = Heros_2()\n",
    "hero_Turin = Heros_2()\n",
    "hero_Aragorn = Heros_2()\n",
    "\n",
    "print(hero_Beren.MAX_SPEED)\n",
    "print(hero_Turin.MAX_SPEED)\n",
    "print(hero_Aragorn.MAX_SPEED)"
   ]
  },
  {
   "cell_type": "code",
   "execution_count": 103,
   "metadata": {},
   "outputs": [
    {
     "name": "stdout",
     "output_type": "stream",
     "text": [
      "2389\n",
      "5\n",
      "5\n"
     ]
    }
   ],
   "source": [
    "# After drinking a magic portion the speed of Beren increases incredible\n",
    "# The speed is increased only on the instance Beren\n",
    "\n",
    "hero_Beren.MAX_SPEED = 2389\n",
    "print(hero_Beren.MAX_SPEED)\n",
    "\n",
    "# The speed of Turin stays the same \n",
    "# The speed is increased only on the instance Beren\n",
    "print(hero_Turin.MAX_SPEED)\n",
    "print(hero_Aragorn.MAX_SPEED)"
   ]
  },
  {
   "cell_type": "code",
   "execution_count": 104,
   "metadata": {},
   "outputs": [
    {
     "name": "stdout",
     "output_type": "stream",
     "text": [
      "8\n",
      "8\n",
      "2389\n"
     ]
    }
   ],
   "source": [
    "# the speed of Turin and Aragorn increases through skill training \n",
    "# on class level for all instances\n",
    "\n",
    "\n",
    "Heros_2.MAX_SPEED = 8\n",
    "\n",
    "\n",
    "print(hero_Turin.MAX_SPEED)\n",
    "print(hero_Aragorn.MAX_SPEED)\n",
    "\n",
    "# the speed of Beren stays the same on instance-level through a magic potion\n",
    "print(hero_Beren.MAX_SPEED)"
   ]
  },
  {
   "cell_type": "markdown",
   "metadata": {},
   "source": [
    "#### Checking class membership\n",
    "<p>\n",
    "Testing if an instance belongs to a class with the Python isinstance() Function<br>\n",
    "Definition and Usage\n",
    "The isinstance() function returns True if the specified object is of the specified type, otherwise False.\n",
    "<a href=\"https://www.w3schools.com/python/ref_func_isinstance.asp\" target=\"_blank\">\n",
    "w3schools.com\n",
    "</a> \n",
    "</p> \n",
    "\n",
    "\n",
    "\n"
   ]
  },
  {
   "cell_type": "code",
   "execution_count": 105,
   "metadata": {},
   "outputs": [
    {
     "name": "stdout",
     "output_type": "stream",
     "text": [
      "Feanor\n",
      "Finwe\n",
      "Serinde\n",
      "Silmarils\n",
      "True\n"
     ]
    }
   ],
   "source": [
    "# creating a class Feanor\n",
    "class Feanor:\n",
    "    name = \"Feanor\"\n",
    "    father = \"Finwe\"\n",
    "    mother = \"Serinde\"\n",
    "    achievement = \"Silmarils\"\n",
    "        \n",
    "# creating an instance of the class   \n",
    "testFeanor = Feanor()\n",
    "print(testFeanor.name)\n",
    "print(testFeanor.father)\n",
    "print(testFeanor.mother)\n",
    "print(testFeanor.achievement)\n",
    "\n",
    "# check if the instance belongs to the class\n",
    "Feanor_check = isinstance(testFeanor, Feanor)\n",
    "\n",
    "print(Feanor_check )\n",
    "# testFeanor belongs to Feanor"
   ]
  },
  {
   "cell_type": "markdown",
   "metadata": {},
   "source": [
    "Testing class membership along inheritance."
   ]
  },
  {
   "cell_type": "code",
   "execution_count": 106,
   "metadata": {},
   "outputs": [],
   "source": [
    "# This creates a simple counter\n",
    "class CountNoldors:\n",
    "    def __init__(self, count):\n",
    "       self.count = count\n",
    "\n",
    "    def add_counts(self, n):\n",
    "       self.count += n\n",
    "\n",
    "# This inherits all parts of the Class Counter to the class Indexer\n",
    "class IndexNoldors(CountNoldors):\n",
    "   pass"
   ]
  },
  {
   "cell_type": "code",
   "execution_count": 107,
   "metadata": {},
   "outputs": [],
   "source": [
    "# Counter needs an argument count\n",
    "# As Indexer inherits from Counter Indexer needs the count argument too.\n",
    "instanceNoldor = IndexNoldors(3)"
   ]
  },
  {
   "cell_type": "code",
   "execution_count": 108,
   "metadata": {},
   "outputs": [
    {
     "name": "stdout",
     "output_type": "stream",
     "text": [
      "True\n"
     ]
    }
   ],
   "source": [
    "noldor_check22 = isinstance(instanceNoldor, IndexNoldors)\n",
    "print(noldor_check22 )\n",
    "# the instanceNoldor is an instance of class IndexNoldors"
   ]
  },
  {
   "cell_type": "code",
   "execution_count": 109,
   "metadata": {},
   "outputs": [
    {
     "name": "stdout",
     "output_type": "stream",
     "text": [
      "True\n"
     ]
    }
   ],
   "source": [
    "noldor_check33  = isinstance(instanceNoldor , CountNoldors)\n",
    "print(noldor_check33)\n",
    "# the instance instanceNoldor of class IndexNoldors is also an instance of class CountNoldors"
   ]
  },
  {
   "cell_type": "markdown",
   "metadata": {},
   "source": [
    "#### Class methods\n",
    "\n",
    "<p>\n",
    "Regular methods are allready shared between instances of a class.\n",
    "However these methods are not able to use any instance-level data.\n",
    "Class methods are used for this purpose.\n",
    "These methods create object with instance level data.\n",
    "A common use case is creating objects from files.\n",
    "Regular objects are first created and then provided with data.\n",
    "Class methods offer an alternative way to construct objects.\n",
    "Objects are constructed together with instance level data.\n",
    "</p>\n",
    "<p>\n",
    "Here in the first step a class is constructed using __init__.\n",
    "This constructor checks the nobility of a character.\n",
    "There is only one __init__ per class.\n",
    "The classmethods allows to import the data from a file.\n",
    "It references the parent class and provides the data for the necessary arguments.\n",
    "</p>"
   ]
  },
  {
   "cell_type": "code",
   "execution_count": 110,
   "metadata": {},
   "outputs": [],
   "source": [
    "class Nobility():\n",
    "    \n",
    "    MIN_WEALTH = 11700 # gold coins\n",
    "    ### Checks if someone is a of noble origin. Only nobles have at least 11.700 gold coins ###\n",
    "    \n",
    "    def __init__(self, name, wealth):\n",
    "        self.name = name\n",
    "        self.wealth = wealth\n",
    "        if wealth >= Nobility.MIN_WEALTH:\n",
    "            print(\"You are of noble birth, my Lord {}. How can I serve you?\". format(self.name))\n",
    "        else:\n",
    "            print(\"You are not of noble birth. Your are {} the pretender and must be thrown into the dungeon.\".format(self.name))\n",
    "            "
   ]
  },
  {
   "cell_type": "code",
   "execution_count": 111,
   "metadata": {},
   "outputs": [
    {
     "name": "stdout",
     "output_type": "stream",
     "text": [
      "You are of noble birth, my Lord Cirdan. How can I serve you?\n",
      "You are not of noble birth. Your are Maeglin the pretender and must be thrown into the dungeon.\n"
     ]
    }
   ],
   "source": [
    "nobleCheck1 = Nobility(\"Cirdan\", 12000)\n",
    "nobleCheck2 = Nobility(\"Maeglin\", 876)   "
   ]
  },
  {
   "cell_type": "code",
   "execution_count": 112,
   "metadata": {},
   "outputs": [
    {
     "name": "stdout",
     "output_type": "stream",
     "text": [
      "Cirdan\n",
      "12000\n"
     ]
    }
   ],
   "source": [
    "print(nobleCheck1.name)\n",
    "print(nobleCheck1.wealth)"
   ]
  },
  {
   "cell_type": "code",
   "execution_count": 113,
   "metadata": {},
   "outputs": [
    {
     "name": "stdout",
     "output_type": "stream",
     "text": [
      "<class '__main__.Nobility'>\n",
      "<class '__main__.Nobility'>\n"
     ]
    }
   ],
   "source": [
    "print(type(nobleCheck1))\n",
    "print(type(nobleCheck2))"
   ]
  },
  {
   "cell_type": "markdown",
   "metadata": {},
   "source": [
    "The nobility checks works. In the next step the class method is constructed.\n",
    "It carries the instance-level data from a file into the functions of the class."
   ]
  },
  {
   "cell_type": "code",
   "execution_count": 114,
   "metadata": {},
   "outputs": [
    {
     "name": "stdout",
     "output_type": "stream",
     "text": [
      "Fingolfin; 2397341\n",
      "['Fingolfin', ' 2397341']\n",
      "Fingolfin\n",
      " 2397341\n",
      "Fingolfin <class 'str'>\n",
      "2397341 <class 'int'>\n"
     ]
    }
   ],
   "source": [
    "with open(\"Fingolfin_wealth.txt\", \"r\") as f:\n",
    "\n",
    "            line = f.readline()\n",
    "            line_split = line.split(\";\")\n",
    "            \n",
    "            wealth = int(line_split[1])\n",
    "            name = line_split[0]            \n",
    "            \n",
    "            print(line) \n",
    "            print(line_split) \n",
    "            print(line_split[0]) \n",
    "            print(line_split[1])\n",
    "            print(name, type(name))\n",
    "            print(wealth, type(wealth))"
   ]
  },
  {
   "cell_type": "markdown",
   "metadata": {},
   "source": [
    "In the next step the code above is inserted as a function of class method into the \n",
    "class Nobility."
   ]
  },
  {
   "cell_type": "code",
   "execution_count": 115,
   "metadata": {},
   "outputs": [],
   "source": [
    "class Nobility2():\n",
    "    \n",
    "    MIN_WEALTH = 11700 # gold coins\n",
    "    ### Checks if someone is a of noble origin. Only nobles have at least 11.700 gold coins ###\n",
    "    \n",
    "    def __init__(self, name, wealth):\n",
    "        self.name = name\n",
    "        self.wealth = wealth\n",
    "        if wealth >= Nobility2.MIN_WEALTH:\n",
    "            print(\"You are of noble birth, my Lord {}. How can I serve you?\". format(self.name))\n",
    "        else:\n",
    "            print(\"You are not of noble birth. Your are {} the pretender and must be thrown into the dungeon.\".format(self.name))\n",
    "            \n",
    "    @classmethod # decorator\n",
    "    def load_datafile(cls, file):\n",
    "        \n",
    "        with open(file, \"r\") as f:\n",
    "\n",
    "            line = f.readline()\n",
    "            line_split = line.split(\";\")\n",
    "            \n",
    "            wealth = int(line_split[1])\n",
    "            name = line_split[0]\n",
    "            \n",
    "        return cls(name, wealth) # cls argumenta goes into init arguments\n",
    "            "
   ]
  },
  {
   "cell_type": "code",
   "execution_count": 116,
   "metadata": {},
   "outputs": [
    {
     "name": "stdout",
     "output_type": "stream",
     "text": [
      "You are of noble birth, my Lord Turgon. How can I serve you?\n",
      "You are not of noble birth. Your are Saruman the pretender and must be thrown into the dungeon.\n"
     ]
    }
   ],
   "source": [
    "nobleCheck3 = Nobility2(\"Turgon\", 90009)\n",
    "nobleCheck4 = Nobility2(\"Saruman\", 1200)  "
   ]
  },
  {
   "cell_type": "code",
   "execution_count": 117,
   "metadata": {},
   "outputs": [
    {
     "name": "stdout",
     "output_type": "stream",
     "text": [
      "Turgon\n",
      "90009\n"
     ]
    }
   ],
   "source": [
    "print(nobleCheck3.name)\n",
    "print(nobleCheck3.wealth)"
   ]
  },
  {
   "cell_type": "markdown",
   "metadata": {},
   "source": [
    "The basic function works with the init constructor works.\n",
    "Will the alternative constructor class method also work?"
   ]
  },
  {
   "cell_type": "code",
   "execution_count": 118,
   "metadata": {},
   "outputs": [
    {
     "name": "stdout",
     "output_type": "stream",
     "text": [
      "You are of noble birth, my Lord Fingolfin. How can I serve you?\n",
      "<class '__main__.Nobility2'>\n"
     ]
    }
   ],
   "source": [
    "noble3 = Nobility2.load_datafile(\"Fingolfin_wealth.txt\")\n",
    "print(type(noble3))"
   ]
  },
  {
   "cell_type": "markdown",
   "metadata": {},
   "source": [
    "The alternative object constructor works. It provides the data for the arguments from a file."
   ]
  },
  {
   "cell_type": "markdown",
   "metadata": {},
   "source": [
    "### Inheritance from parent classes to subclasses or child classes\n",
    "\n",
    "<p>\n",
    "We want to know more about the forces of the beings of middle earth, but there are so many different types of forces and they do a lot different actions. In this case inheritance from one general class (cavallarie) to a more specialized class (Husars) come into play. \n",
    "</p>\n",
    "\n",
    "<p>\n",
    "A <b>parent class</b> collects general information.\n",
    "<b>Subclasses</b> are inherting methods and attributes from parent classes.\n",
    "This is convenient as subclasses are able to reuse the code of the parent.\n",
    "</p>\n",
    "\n",
    "<p>\n",
    "Subclasses are also used to extend or customize the functionality of the parent classes. \n",
    "This means on top of the inheritance new special methods and attributes are set in the subclass.\n",
    "A saving account can use all the methods of a banking account like deposit or pay off,\n",
    "but adds special methods like calculating interest to it.\n",
    "The Noldor class can use all the methods of the class elves, but adds special methods like\n",
    "creating gemstones to it.\n",
    "</p> \n",
    "\n",
    "<p>\n",
    "Keep in mind with inheritance all the class definitions of the parent are passed on to the child.\n",
    "It is not possible to inherit only special methods for example.\n",
    "</p> \n"
   ]
  },
  {
   "cell_type": "code",
   "execution_count": 119,
   "metadata": {},
   "outputs": [],
   "source": [
    "class Infantry(Forces):\n",
    "    pass"
   ]
  },
  {
   "cell_type": "code",
   "execution_count": 120,
   "metadata": {},
   "outputs": [
    {
     "name": "stdout",
     "output_type": "stream",
     "text": [
      "Khazâd\n",
      "34980\n"
     ]
    }
   ],
   "source": [
    "# the dwarf forces consits mostly of the Khazâd infantry\n",
    "dwarf_infantry = Infantry(\"Khazâd\", 34980)\n",
    "print(dwarf_infantry.name)\n",
    "print(dwarf_infantry.soldiers)"
   ]
  },
  {
   "cell_type": "code",
   "execution_count": 121,
   "metadata": {},
   "outputs": [],
   "source": [
    "class Cavalry(Forces):\n",
    "    def display(self):\n",
    "        return (\"Name of the cavalry: \" + self.name)\n",
    "    # every cavalry soldier possesess two horses \n",
    "    def Horses(self):\n",
    "        return self.soldiers*2\n",
    "    \n",
    "    def weapons(self, weapons):\n",
    "        self.weapon = weapons"
   ]
  },
  {
   "cell_type": "code",
   "execution_count": 122,
   "metadata": {},
   "outputs": [],
   "source": [
    "noldor_cavalry = Cavalry(name = \"Fingolfins ride\")\n",
    "\n",
    "# Gondolin refinforces the cavalry of Fingolfin by 15000\n",
    "noldor_cavalry.reinforce(15000)"
   ]
  },
  {
   "cell_type": "code",
   "execution_count": 123,
   "metadata": {},
   "outputs": [
    {
     "name": "stdout",
     "output_type": "stream",
     "text": [
      "True\n",
      "True\n"
     ]
    }
   ],
   "source": [
    "print(isinstance(noldor_cavalry, Forces))\n",
    "print(isinstance(noldor_cavalry, Cavalry))"
   ]
  },
  {
   "cell_type": "code",
   "execution_count": 124,
   "metadata": {},
   "outputs": [],
   "source": [
    "noldor_cavalry.weapons = \"sword, axe, lance, bow\""
   ]
  },
  {
   "cell_type": "code",
   "execution_count": 125,
   "metadata": {},
   "outputs": [
    {
     "name": "stdout",
     "output_type": "stream",
     "text": [
      "Name of the cavalry: Fingolfins ride\n",
      "16000\n",
      "32000\n",
      "sword, axe, lance, bow\n"
     ]
    }
   ],
   "source": [
    "print(noldor_cavalry.display())\n",
    "print(noldor_cavalry.soldiers)\n",
    "print(noldor_cavalry.Horses())\n",
    "print(noldor_cavalry.weapons)"
   ]
  },
  {
   "cell_type": "markdown",
   "metadata": {},
   "source": [
    "The cavalries of middle earth are organized into different specialized cavalaries like heavy knights, \n",
    "mounted archers, and light cavalry hussars. The subtypes of cavalries inherit all the characteristics, \n",
    "but are adding some special features to the higher type. \n",
    "The main weapon of the mounted archers for example is the bow. The armor is light."
   ]
  },
  {
   "cell_type": "code",
   "execution_count": 126,
   "metadata": {},
   "outputs": [],
   "source": [
    "class MountedArchers(Cavalry):\n",
    "    pass"
   ]
  },
  {
   "cell_type": "code",
   "execution_count": 127,
   "metadata": {},
   "outputs": [
    {
     "name": "stdout",
     "output_type": "stream",
     "text": [
      "Sindar Riders\n",
      "Name of the cavalry: Sindar Riders\n"
     ]
    }
   ],
   "source": [
    "# The Sindar elves were famous for their mounted archery\n",
    "sindar_riders = MountedArchers(\"Sindar Riders\")\n",
    "print(sindar_riders.name)\n",
    "print(sindar_riders.display())"
   ]
  },
  {
   "cell_type": "code",
   "execution_count": 128,
   "metadata": {},
   "outputs": [
    {
     "name": "stdout",
     "output_type": "stream",
     "text": [
      "True\n",
      "True\n",
      "True\n"
     ]
    }
   ],
   "source": [
    "print(isinstance(sindar_riders, Forces))\n",
    "print(isinstance(sindar_riders, Cavalry))\n",
    "print(isinstance(sindar_riders, MountedArchers))"
   ]
  },
  {
   "cell_type": "markdown",
   "metadata": {},
   "source": [
    "The Sindar Riders are a part of the Middle Earth forces. \n",
    "They are of type cavalry and of sub type mounted archers."
   ]
  },
  {
   "cell_type": "code",
   "execution_count": 129,
   "metadata": {},
   "outputs": [
    {
     "name": "stdout",
     "output_type": "stream",
     "text": [
      "sword, bow\n"
     ]
    }
   ],
   "source": [
    "sindar_riders.weapons = \"sword, bow\"\n",
    "print(sindar_riders.weapons)"
   ]
  },
  {
   "cell_type": "markdown",
   "metadata": {},
   "source": [
    "The Sindar riders used the sword and the bow but what was their main weapon?\n",
    "Also did they used heavy or light armour?"
   ]
  },
  {
   "cell_type": "code",
   "execution_count": 130,
   "metadata": {},
   "outputs": [],
   "source": [
    "class MountedArchers(Cavalry):\n",
    "    def __init__(self, weapons, mainweapon):\n",
    "        # Cavalry = parent\n",
    "        # self represents an object of the MountedArchers class\n",
    "        # as MountedArchers is a subclass of the parent class Cavalry\n",
    "        # self represents an object of class Cavalry too.\n",
    "        Cavalry.__init__(self, weapons)\n",
    "    \n",
    "        self.mainweapon = mainweapon\n",
    "               "
   ]
  },
  {
   "cell_type": "code",
   "execution_count": 131,
   "metadata": {},
   "outputs": [
    {
     "name": "stdout",
     "output_type": "stream",
     "text": [
      "True\n",
      "sword, bow, spear\n",
      "bow\n"
     ]
    }
   ],
   "source": [
    "noldor_riders = MountedArchers(\"sword, bow, spear\", \"bow\")\n",
    "noldor_riders.weapons = \"sword, bow, spear\"\n",
    "\n",
    "print(isinstance(noldor_riders, MountedArchers))\n",
    "print(noldor_riders.weapons)\n",
    "print(noldor_riders.mainweapon)\n"
   ]
  },
  {
   "cell_type": "markdown",
   "metadata": {},
   "source": [
    "#### Gold coin economy\n",
    "\n",
    "War does cost a lot of resources. There is little known about the economy of Middle-earth, but there\n",
    "is evidence of money. Remember when the hobbits payed at Bree for lodging? The currency was the gold coin. (There is the potential for a switch from gold coins directly to bitcoins later.)\n",
    "\n"
   ]
  },
  {
   "cell_type": "code",
   "execution_count": 132,
   "metadata": {},
   "outputs": [],
   "source": [
    "class Lords3:\n",
    "    def __init__(self, name, house, wealth):\n",
    "        self.name = name\n",
    "        self.house = house\n",
    "        self.wealth = wealth"
   ]
  },
  {
   "cell_type": "code",
   "execution_count": 133,
   "metadata": {},
   "outputs": [],
   "source": [
    "class WealthAccount(Lords3):\n",
    "    \n",
    "    def __init__(self, name, house, wealth):\n",
    "        Lords3.__init__(self, name, house, wealth)\n",
    "        \n",
    "\n",
    "    def expend(self, expenses):\n",
    "        self.wealth -= expenses\n",
    "        \n",
    "    def takein(self, proceeds):\n",
    "        self.wealth += proceeds\n",
    "        \n",
    "    def date(self, date):\n",
    "        self.date = date\n",
    "        "
   ]
  },
  {
   "cell_type": "markdown",
   "metadata": {},
   "source": [
    "#### The wealth of Finrod Felagund,\n",
    "\n",
    "The richest of the Noldor lords was Finrod Felagund, the founder and ruler of Nargothrond, the\n",
    "hidden underground fortress on the river Nargo. Let's see how rich he was?"
   ]
  },
  {
   "cell_type": "code",
   "execution_count": 134,
   "metadata": {},
   "outputs": [],
   "source": [
    "Finrod = WealthAccount('Finrod Felagund', 'Finwe', 350000000)"
   ]
  },
  {
   "cell_type": "code",
   "execution_count": 135,
   "metadata": {},
   "outputs": [
    {
     "name": "stdout",
     "output_type": "stream",
     "text": [
      "Finrod Felagund\n",
      "Finwe\n",
      "350000000\n"
     ]
    }
   ],
   "source": [
    "print(Finrod.name)\n",
    "print(Finrod.house)\n",
    "print(Finrod.wealth)"
   ]
  },
  {
   "cell_type": "code",
   "execution_count": 136,
   "metadata": {},
   "outputs": [
    {
     "name": "stdout",
     "output_type": "stream",
     "text": [
      "Date: 48513, second age\n",
      "Wealth of Finrod Felagund: 350049877 goldcoins\n"
     ]
    }
   ],
   "source": [
    "Finrod.takein(50000)\n",
    "Finrod.expend(123)\n",
    "Finrod.date(\"48513, second age\")\n",
    "\n",
    "print(\"Date: {}\".format(Finrod.date))\n",
    "print(\"Wealth of {}: {} goldcoins\".format(Finrod.name, Finrod.wealth))"
   ]
  },
  {
   "cell_type": "markdown",
   "metadata": {},
   "source": [
    "#### The fall of Nargothrond\n",
    "<p>\n",
    "Finrod Felagund considered some projects like building\n",
    "bridges and ports at the river Nargo over 120 years. He considered the amount of the investment to\n",
    "get a return of 900.000 gold coins (present value) or how much return he was going to get,\n",
    "when investing 900.000 gold coins (future value) given a certain interest rate over time.\n",
    "</p>\n",
    "\n",
    "<p>\n",
    "His magicians calculated the returns using number magic. \n",
    "Thr results were satisfying and he decided to do the projects.\n",
    "However little he knew that these projects revealed Nargothrond to the dragon Glaurung,\n",
    "who destructed the fortress. Bad luck! This was not in the numbers.\n",
    "</p>"
   ]
  },
  {
   "cell_type": "code",
   "execution_count": 137,
   "metadata": {},
   "outputs": [],
   "source": [
    "class InvestmentCalculator(WealthAccount):\n",
    "    \n",
    "    def __init__(self, name, house, wealth, investment, interest_rate, nperiods):\n",
    "        self.investment = investment\n",
    "        self.interest_rate = interest_rate   \n",
    "        self.nperiods = nperiods\n",
    "        \n",
    "        # This calls the (grand) parent constructor Lord3.\n",
    "        # to fill in the arguments of name, house, wealth in init.\n",
    "        # This reuses the code of Lords3 instead of writing it here again.\n",
    "        # Here this makes one line instead of 3 lines of code.\n",
    "        Lords3.__init__(self, name, house, wealth)\n",
    "    \n",
    "    # calculate future value\n",
    "    def calculate_fv(self):\n",
    "        return round(self.investment * ((1 + self.interest_rate) ** self.nperiods), 2)\n",
    "        \n",
    "    # calculate present value\n",
    "    def calculate_pv(self):\n",
    "        return round(self.investment / ((1+ self.interest_rate) ** self.nperiods), 1000)\n",
    "    \n",
    "    def future_wealth(self):\n",
    "        return round(self.calculate_fv() + self.wealth,2)"
   ]
  },
  {
   "cell_type": "code",
   "execution_count": 138,
   "metadata": {},
   "outputs": [],
   "source": [
    "Finrods_investment = \\\n",
    "InvestmentCalculator('Finrod Felagund', 'Finwe', 350000045, 900000, 0.45, 120)"
   ]
  },
  {
   "cell_type": "code",
   "execution_count": 139,
   "metadata": {},
   "outputs": [
    {
     "data": {
      "text/plain": [
       "True"
      ]
     },
     "execution_count": 139,
     "metadata": {},
     "output_type": "execute_result"
    }
   ],
   "source": [
    "isinstance(Finrods_investment, Lords3)"
   ]
  },
  {
   "cell_type": "code",
   "execution_count": 140,
   "metadata": {},
   "outputs": [
    {
     "name": "stdout",
     "output_type": "stream",
     "text": [
      "Investor is Finrod Felagund of house Finwe with a current wealth of 350000045 gold coins\n"
     ]
    }
   ],
   "source": [
    "print(\"Investor is {} of house {} with a current wealth of {} gold coins\".\\\n",
    "      format(Finrods_investment.name, Finrods_investment.house, Finrods_investment.wealth))"
   ]
  },
  {
   "cell_type": "code",
   "execution_count": 141,
   "metadata": {},
   "outputs": [
    {
     "name": "stdout",
     "output_type": "stream",
     "text": [
      "900000\n",
      "0.45\n",
      "120\n"
     ]
    }
   ],
   "source": [
    "print(Finrods_investment.investment)\n",
    "print(Finrods_investment.interest_rate)\n",
    "print(Finrods_investment.nperiods)"
   ]
  },
  {
   "cell_type": "code",
   "execution_count": 142,
   "metadata": {},
   "outputs": [
    {
     "data": {
      "text/plain": [
       "3.891188244607109e-14"
      ]
     },
     "execution_count": 142,
     "metadata": {},
     "output_type": "execute_result"
    }
   ],
   "source": [
    "Finrods_investment.calculate_pv()"
   ]
  },
  {
   "cell_type": "code",
   "execution_count": 143,
   "metadata": {},
   "outputs": [
    {
     "data": {
      "text/plain": [
       "2.081626354424252e+25"
      ]
     },
     "execution_count": 143,
     "metadata": {},
     "output_type": "execute_result"
    }
   ],
   "source": [
    "Finrods_investment.calculate_fv()"
   ]
  },
  {
   "cell_type": "code",
   "execution_count": 144,
   "metadata": {},
   "outputs": [
    {
     "data": {
      "text/plain": [
       "2.081626354424252e+25"
      ]
     },
     "execution_count": 144,
     "metadata": {},
     "output_type": "execute_result"
    }
   ],
   "source": [
    "Finrods_investment.future_wealth()"
   ]
  },
  {
   "cell_type": "markdown",
   "metadata": {},
   "source": [
    "Does the wealth change?"
   ]
  },
  {
   "cell_type": "markdown",
   "metadata": {},
   "source": [
    "Orodreth, the the successor of Finrod, considered some additional investments."
   ]
  },
  {
   "cell_type": "code",
   "execution_count": 145,
   "metadata": {},
   "outputs": [],
   "source": [
    "Orodreths_investment = \\\n",
    "InvestmentCalculator('Orodreths', 'Finwe', 21000, 1000, 0.45, 15)"
   ]
  },
  {
   "cell_type": "code",
   "execution_count": 146,
   "metadata": {},
   "outputs": [
    {
     "data": {
      "text/plain": [
       "263341.94"
      ]
     },
     "execution_count": 146,
     "metadata": {},
     "output_type": "execute_result"
    }
   ],
   "source": [
    "Orodreths_investment.calculate_fv()"
   ]
  },
  {
   "cell_type": "code",
   "execution_count": 147,
   "metadata": {},
   "outputs": [
    {
     "data": {
      "text/plain": [
       "284341.94"
      ]
     },
     "execution_count": 147,
     "metadata": {},
     "output_type": "execute_result"
    }
   ],
   "source": [
    "Orodreths_investment.future_wealth()"
   ]
  },
  {
   "cell_type": "markdown",
   "metadata": {},
   "source": [
    "#### Customization of inherited functions\n",
    "<p>\n",
    "Some lords have not only expenses, but must also ay tribute.\n",
    "Of course mostly Orc lords demanded tribute, while Feanor's sons were known for their cruelty\n",
    "and demanded tribute too.\n",
    "</p> \n",
    "<p>\n",
    "Python allows to customize given functions and add additional functionality to it.\n",
    "In this case the expend function is extended by the argument tribute.\n",
    "</p> \n",
    "\n"
   ]
  },
  {
   "cell_type": "code",
   "execution_count": 148,
   "metadata": {},
   "outputs": [],
   "source": [
    "class bancruptcy(WealthAccount):\n",
    "    def __init__(self, name, house, wealth):\n",
    "        Lords3.__init__(self, name, house, wealth)\n",
    "        \n",
    "        \n",
    "    def total_expenditures(self, expenses, tribute):\n",
    "        WealthAccount.expend(self, expenses + tribute)\n",
    "       \n",
    "    def bancrupt(self):\n",
    "\n",
    "        if self.wealth > 0:\n",
    "            return \"not bancrupt\"\n",
    "        else:\n",
    "            return \"bancrupt\"\n",
    "        "
   ]
  },
  {
   "cell_type": "markdown",
   "metadata": {},
   "source": [
    "The great Orc lord Badulwin the horrid of house Baldor must pay tribute \n",
    "to the even greater Orc Lord Tumivil the crueller of house Tutivil."
   ]
  },
  {
   "cell_type": "code",
   "execution_count": 149,
   "metadata": {},
   "outputs": [
    {
     "name": "stdout",
     "output_type": "stream",
     "text": [
      "Badulwin\n",
      "Baldor\n"
     ]
    }
   ],
   "source": [
    "Badulwin = bancruptcy('Badulwin', 'Baldor', 130000)\n",
    "print(Badulwin.name)\n",
    "print(Badulwin.house)"
   ]
  },
  {
   "cell_type": "markdown",
   "metadata": {},
   "source": [
    "Badulwins expenses are low. He runs a tight ship."
   ]
  },
  {
   "cell_type": "code",
   "execution_count": 150,
   "metadata": {},
   "outputs": [
    {
     "name": "stdout",
     "output_type": "stream",
     "text": [
      "105000\n"
     ]
    }
   ],
   "source": [
    "Badulwin.total_expenditures(15000, 10000)\n",
    "print(Badulwin.wealth)"
   ]
  },
  {
   "cell_type": "markdown",
   "metadata": {},
   "source": [
    "Badulwin takes in proceeds from plundering and oppression."
   ]
  },
  {
   "cell_type": "code",
   "execution_count": 151,
   "metadata": {},
   "outputs": [
    {
     "name": "stdout",
     "output_type": "stream",
     "text": [
      "147159\n"
     ]
    }
   ],
   "source": [
    "Badulwin.takein(42159)\n",
    "print(Badulwin.wealth)"
   ]
  },
  {
   "cell_type": "markdown",
   "metadata": {},
   "source": [
    "Are expenses and tribute greater than wealth and proceeds?<br>\n",
    "Is Baldulwin the horrid bancrupt?"
   ]
  },
  {
   "cell_type": "code",
   "execution_count": 152,
   "metadata": {},
   "outputs": [
    {
     "data": {
      "text/plain": [
       "'not bancrupt'"
      ]
     },
     "execution_count": 152,
     "metadata": {},
     "output_type": "execute_result"
    }
   ],
   "source": [
    "Badulwin.bancrupt()"
   ]
  },
  {
   "cell_type": "markdown",
   "metadata": {},
   "source": [
    "Somtor must pay tribute to Badulwin.\n",
    "Is the minor Orc lord Somtor the creeper bancrupt?<br>\n",
    "He had a bad year. \n",
    "The return of pillaging the neighbouring villages was very low.\n",
    "The villages were allready exploited."
   ]
  },
  {
   "cell_type": "code",
   "execution_count": 153,
   "metadata": {},
   "outputs": [
    {
     "name": "stdout",
     "output_type": "stream",
     "text": [
      "Somtor\n",
      "Somdar\n",
      "10000\n",
      "bancrupt\n",
      "-1800\n",
      "Somtor of house Somdar is bancrupt.\n"
     ]
    }
   ],
   "source": [
    "Somtor = bancruptcy('Somtor', 'Somdar', 10000)\n",
    "print(Somtor.name)\n",
    "print(Somtor.house)\n",
    "print(Somtor.wealth)\n",
    "\n",
    "Somtor.total_expenditures(8000, 5000)\n",
    "Somtor.takein(1200)\n",
    "\n",
    "print(Somtor.bancrupt())\n",
    "\n",
    "print(Somtor.wealth)\n",
    "\n",
    "print(\"{} of house {} is {}.\".format(Somtor.name, Somtor.house, Somtor.bancrupt()))"
   ]
  },
  {
   "cell_type": "markdown",
   "metadata": {},
   "source": [
    "### The equality constructor\n",
    "\n",
    "Two objects can have the same data, but are not equal.<br>\n",
    "Both objects are stored at different locations in memory.<br>\n",
    "The references to the locations are compared not the data attached to the objects.<br>\n",
    "The Boolean comparison returns False."
   ]
  },
  {
   "cell_type": "code",
   "execution_count": 154,
   "metadata": {},
   "outputs": [
    {
     "name": "stdout",
     "output_type": "stream",
     "text": [
      "False\n",
      "<__main__.bancruptcy object at 0x000001556B7AE988>\n",
      "<__main__.bancruptcy object at 0x000001556B7AE1C8>\n"
     ]
    }
   ],
   "source": [
    "Somtor_2 = bancruptcy('Somtor', 'Somdar', 10000)\n",
    "\n",
    "print(Somtor == Somtor_2)\n",
    "\n",
    "print(Somtor)\n",
    "print(Somtor_2)"
   ]
  },
  {
   "cell_type": "code",
   "execution_count": 155,
   "metadata": {},
   "outputs": [
    {
     "data": {
      "text/plain": [
       "True"
      ]
     },
     "execution_count": 155,
     "metadata": {},
     "output_type": "execute_result"
    }
   ],
   "source": [
    "list_1 = [1,2,3]\n",
    "list_2 = [1,2,3]\n",
    "\n",
    "list_1 == list_2"
   ]
  },
  {
   "cell_type": "markdown",
   "metadata": {},
   "source": [
    "The comparison results here in True.<br>\n",
    "Obviously the data and not the references were compared here.<br>\n",
    "The Boolean comparison of the data must be enforced with a class function."
   ]
  },
  {
   "cell_type": "code",
   "execution_count": 156,
   "metadata": {},
   "outputs": [],
   "source": [
    "class Lords4:\n",
    "    def __init__(self, name, house, wealth):\n",
    "        self.name = name\n",
    "        self.house = house\n",
    "        self.wealth = wealth"
   ]
  },
  {
   "cell_type": "code",
   "execution_count": 157,
   "metadata": {},
   "outputs": [
    {
     "data": {
      "text/plain": [
       "False"
      ]
     },
     "execution_count": 157,
     "metadata": {},
     "output_type": "execute_result"
    }
   ],
   "source": [
    "Elrond_1 = Lords4(\"Elrond\", \"Eärendil\", 60000000)\n",
    "Elrond_2 = Lords4(\"Elrond\", \"Eärendil\", 60000000)\n",
    "\n",
    "Elrond_1 == Elrond_2 "
   ]
  },
  {
   "cell_type": "markdown",
   "metadata": {},
   "source": [
    "The eq - constructor allows to compare the data of the object and not the references to the memory chunks."
   ]
  },
  {
   "cell_type": "code",
   "execution_count": 158,
   "metadata": {},
   "outputs": [],
   "source": [
    "class Lords5:\n",
    "    def __init__(self, name, house, wealth):\n",
    "        self.name = name\n",
    "        self.house = house\n",
    "        self.wealth = wealth\n",
    "    \n",
    "    def __eq__(self, other):\n",
    "        print(\"A Boolean comparison is done.\")\n",
    "        \n",
    "        return (self.name == other.name) and \\\n",
    "                (self.house == other.house) and \\\n",
    "                (self.wealth == other.wealth)"
   ]
  },
  {
   "cell_type": "code",
   "execution_count": 159,
   "metadata": {},
   "outputs": [
    {
     "name": "stdout",
     "output_type": "stream",
     "text": [
      "A Boolean comparison is done.\n"
     ]
    },
    {
     "data": {
      "text/plain": [
       "True"
      ]
     },
     "execution_count": 159,
     "metadata": {},
     "output_type": "execute_result"
    }
   ],
   "source": [
    "Elrond_3 = Lords5(\"Elrond\", \"Eärendil\", 60000000)\n",
    "Elrond_4 = Lords5(\"Elrond\", \"Eärendil\", 60000000)\n",
    "\n",
    "Elrond_3 == Elrond_4"
   ]
  },
  {
   "cell_type": "markdown",
   "metadata": {},
   "source": [
    "As now the data is compared different data results in False."
   ]
  },
  {
   "cell_type": "code",
   "execution_count": 160,
   "metadata": {},
   "outputs": [
    {
     "name": "stdout",
     "output_type": "stream",
     "text": [
      "A Boolean comparison is done.\n"
     ]
    },
    {
     "data": {
      "text/plain": [
       "False"
      ]
     },
     "execution_count": 160,
     "metadata": {},
     "output_type": "execute_result"
    }
   ],
   "source": [
    "Elrond_5 = Lords5(\"Elrond\", \"Eärendil\", 60000000)\n",
    "Elrond_6 = Lords5(\"Elrond\", \"Thingol\", 60000000)\n",
    "\n",
    "Elrond_5 == Elrond_6"
   ]
  },
  {
   "cell_type": "markdown",
   "metadata": {},
   "source": [
    "After the fall of Khazad-dûm Gloin is distrustful.<br>\n",
    "He wants to protect his wealth and does not want to carry his gold coins always with him. <br>\n",
    "He opens a bank account at the Ironbank in Braavos, a city in the Outer Lands far away.<br>\n"
   ]
  },
  {
   "cell_type": "code",
   "execution_count": 161,
   "metadata": {},
   "outputs": [],
   "source": [
    "class IronBankAccount(WealthAccount):\n",
    "    \n",
    "    def __init__(self, name, house,  account_number, wealth=0, iron_bank_account=0):\n",
    "        Lords3.__init__(self, name, wealth, house)\n",
    "        self.iron_bank_account = iron_bank_account\n",
    "        self.account_number = account_number\n",
    "        \n",
    "    def transfer(self, transfer):\n",
    "        self.iron_bank_account = transfer + self.iron_bank_account\n",
    "        self.wealth = self.wealth - self.iron_bank_account\n",
    "        \n",
    "    def __eq__(self, other):\n",
    "        return (self.account_number == other.account_number) and \\\n",
    "                (self.house == other.house) and \\\n",
    "                (self.name == other.name)"
   ]
  },
  {
   "cell_type": "markdown",
   "metadata": {},
   "source": [
    "The IronBank uses three identifiers: name, house, account_number."
   ]
  },
  {
   "cell_type": "code",
   "execution_count": 162,
   "metadata": {},
   "outputs": [
    {
     "name": "stdout",
     "output_type": "stream",
     "text": [
      "<class '__main__.IronBankAccount'>\n",
      "True\n"
     ]
    }
   ],
   "source": [
    "Gloins_account = IronBankAccount(\"Gloin\", 67000, \"Durin\", 234)\n",
    "\n",
    "print(type(Gloins_account))\n",
    "print(isinstance(Gloins_account, IronBankAccount))"
   ]
  },
  {
   "cell_type": "code",
   "execution_count": 163,
   "metadata": {},
   "outputs": [
    {
     "data": {
      "text/plain": [
       "True"
      ]
     },
     "execution_count": 163,
     "metadata": {},
     "output_type": "execute_result"
    }
   ],
   "source": [
    "Gloins_account_1 = IronBankAccount(\"Gloin\", 67000, \"Durin\", 234)\n",
    "Gloins_account_2 = IronBankAccount(\"Gloin\", 67000, \"Durin\", 234)\n",
    "\n",
    "Gloins_account_1 == Gloins_account_2"
   ]
  },
  {
   "cell_type": "code",
   "execution_count": 164,
   "metadata": {},
   "outputs": [
    {
     "data": {
      "text/plain": [
       "False"
      ]
     },
     "execution_count": 164,
     "metadata": {},
     "output_type": "execute_result"
    }
   ],
   "source": [
    "Gloins_account_3 = IronBankAccount(\"Gloin\", \"Durin\", 234)\n",
    "Gloins_account_4 = IronBankAccount(\"Gloin\", \"Durin\", 2340)\n",
    "\n",
    "Gloins_account_3 == Gloins_account_4"
   ]
  },
  {
   "cell_type": "code",
   "execution_count": 165,
   "metadata": {},
   "outputs": [],
   "source": [
    "Gloins_account.transfer(2000)"
   ]
  },
  {
   "cell_type": "markdown",
   "metadata": {},
   "source": [
    "Technically the bank deposit is part of Gloins wealth, but wealth is understood here as the wealth\n",
    "he can easily access at his home in Eriador."
   ]
  },
  {
   "cell_type": "code",
   "execution_count": 166,
   "metadata": {},
   "outputs": [
    {
     "name": "stdout",
     "output_type": "stream",
     "text": [
      "Durin\n",
      "2000\n",
      "65000\n"
     ]
    }
   ],
   "source": [
    "print(Gloins_account.account_number)\n",
    "print(Gloins_account.iron_bank_account)\n",
    "print(Gloins_account.wealth)"
   ]
  },
  {
   "cell_type": "markdown",
   "metadata": {},
   "source": [
    "#### Caskets full of gemstones\n",
    "\n",
    "Feanor, the forger of the Silmarils, had many caskets full of gemstones in his treasury in valinor.\n",
    "Every casket had a label with the type and the number of gemstones in it."
   ]
  },
  {
   "cell_type": "code",
   "execution_count": 167,
   "metadata": {},
   "outputs": [],
   "source": [
    "class EmeraldsCasket():\n",
    "    def __init__(self, number):\n",
    "        self.number = number\n",
    "    \n",
    "    def __eq__(self, other):\n",
    "        return(self.number == other.number)\n",
    "\n",
    "\n",
    "class RubiesCasket():\n",
    "    def __init__(self, number):\n",
    "        self.number = number \n",
    "        \n",
    "    def __eq__(self, other):\n",
    "        return(self.number == other.number)"
   ]
  },
  {
   "cell_type": "markdown",
   "metadata": {},
   "source": [
    "Caskets full of emeralds or rubies"
   ]
  },
  {
   "cell_type": "code",
   "execution_count": 168,
   "metadata": {},
   "outputs": [
    {
     "name": "stdout",
     "output_type": "stream",
     "text": [
      "<class '__main__.EmeraldsCasket'>\n",
      "<class '__main__.RubiesCasket'>\n",
      "True\n",
      "<__main__.EmeraldsCasket object at 0x000001556B8AEB48>\n",
      "<__main__.RubiesCasket object at 0x000001556B7A0508>\n",
      "True\n",
      "False\n"
     ]
    }
   ],
   "source": [
    "casket_Emeralds = EmeraldsCasket(15)\n",
    "casket_Rubies = RubiesCasket(15)\n",
    "\n",
    "# the caskets have different class types as they should be\n",
    "print(type(casket_Emeralds))\n",
    "print(type(casket_Rubies))\n",
    "\n",
    "# The casket are evaluated as equal, while those are of different classes\n",
    "print(casket_Emeralds == casket_Rubies)\n",
    "\n",
    "# memory addresses\n",
    "print(casket_Emeralds)\n",
    "print(casket_Rubies)\n",
    "\n",
    "print(isinstance(casket_Emeralds, EmeraldsCasket))\n",
    "print(isinstance(casket_Emeralds, RubiesCasket))"
   ]
  },
  {
   "cell_type": "markdown",
   "metadata": {},
   "source": [
    "The problem here is that the objects (caskets) are evluated as equal or in Boolean logic as True,\n",
    "despite being of different classes. The evaluation is based solely on the numbers argument in the\n",
    "eq constructor. This is solved by checking the type of the objects.\n"
   ]
  },
  {
   "cell_type": "code",
   "execution_count": 169,
   "metadata": {},
   "outputs": [],
   "source": [
    "class EmeraldsCasket():\n",
    "    def __init__(self, number):\n",
    "        self.number = number\n",
    "    \n",
    "    def __eq__(self, other):\n",
    "        return(type(self) == type(other) and self.number == other.number)\n",
    "\n",
    "\n",
    "class RubiesCasket():\n",
    "    def __init__(self, number):\n",
    "        self.number = number \n",
    "    # here the type is checked before the numbers are compared\n",
    "    # objects of different type cannot be equal\n",
    "    def __eq__(self, other):\n",
    "        return(type(self) == type(other) and self.number == other.number)"
   ]
  },
  {
   "cell_type": "code",
   "execution_count": 170,
   "metadata": {},
   "outputs": [
    {
     "name": "stdout",
     "output_type": "stream",
     "text": [
      "<class '__main__.EmeraldsCasket'>\n",
      "<class '__main__.RubiesCasket'>\n",
      "<__main__.EmeraldsCasket object at 0x000001556B8A6508>\n",
      "<__main__.RubiesCasket object at 0x000001556B8DB988>\n"
     ]
    }
   ],
   "source": [
    "casket_Emeralds_2 = EmeraldsCasket(15)\n",
    "casket_Rubies_2 = RubiesCasket(15)\n",
    "\n",
    "# the caskets have different class types as they should have\n",
    "print(type(casket_Emeralds_2 ))\n",
    "print(type(casket_Rubies_2 ))\n",
    "\n",
    "# memory addresses\n",
    "print(casket_Emeralds_2 )\n",
    "print(casket_Rubies_2 )\n"
   ]
  },
  {
   "cell_type": "code",
   "execution_count": 171,
   "metadata": {},
   "outputs": [
    {
     "name": "stdout",
     "output_type": "stream",
     "text": [
      "False\n",
      "True\n",
      "False\n"
     ]
    }
   ],
   "source": [
    "# The casket are evaluated not as equal\n",
    "print(casket_Emeralds_2  == casket_Rubies_2 )\n",
    "\n",
    "print(isinstance(casket_Emeralds_2 , EmeraldsCasket))\n",
    "print(isinstance(casket_Emeralds_2 , RubiesCasket))"
   ]
  },
  {
   "cell_type": "markdown",
   "metadata": {},
   "source": [
    "#### Display output with print for the end user"
   ]
  },
  {
   "cell_type": "code",
   "execution_count": 172,
   "metadata": {},
   "outputs": [],
   "source": [
    "class character():\n",
    "    def __init__(self, name, species, strength=0, magic=0, speed=0, health=0, skill=0):\n",
    "        self.name = name\n",
    "        self.species = species\n",
    "        self.strength = strength\n",
    "        self.magic = magic\n",
    "        self.speed = speed\n",
    "        self.health = health\n",
    "        self.skill = skill # fighting skill\n",
    "        \n",
    "    def __str__(self):\n",
    "        charac_str = \"\"\"\n",
    "        Character:\n",
    "            name: {name}\n",
    "            species: {species}\n",
    "            strength: {strength}\n",
    "            magic: {magic}\n",
    "            speed: {speed}\n",
    "            health: {health}\n",
    "            skill: {skill} \n",
    "        \"\"\".format(name = self.name, species = self.species,\n",
    "                   strength = self.strength, magic = self.magic, speed = self.speed,\n",
    "                   health = self.health, skill=self.skill)\n",
    "        return charac_str\n",
    "        "
   ]
  },
  {
   "cell_type": "code",
   "execution_count": 173,
   "metadata": {},
   "outputs": [
    {
     "name": "stdout",
     "output_type": "stream",
     "text": [
      "Legolas\n",
      "elf\n",
      "10\n",
      "9\n"
     ]
    }
   ],
   "source": [
    "elf_Legolas = character(\"Legolas\", \"elf\", 7, 8, 10, 10, 9)\n",
    "print(elf_Legolas.name)\n",
    "print(elf_Legolas.species)\n",
    "print(elf_Legolas.health)\n",
    "print(elf_Legolas.skill)"
   ]
  },
  {
   "cell_type": "code",
   "execution_count": 174,
   "metadata": {},
   "outputs": [
    {
     "name": "stdout",
     "output_type": "stream",
     "text": [
      "\n",
      "        Character:\n",
      "            name: Legolas\n",
      "            species: elf\n",
      "            strength: 7\n",
      "            magic: 8\n",
      "            speed: 10\n",
      "            health: 10\n",
      "            skill: 9 \n",
      "        \n"
     ]
    }
   ],
   "source": [
    "print(elf_Legolas)"
   ]
  },
  {
   "cell_type": "code",
   "execution_count": 175,
   "metadata": {},
   "outputs": [
    {
     "name": "stdout",
     "output_type": "stream",
     "text": [
      "Gandalf\n",
      "wizard\n",
      "9\n"
     ]
    }
   ],
   "source": [
    "wizard_Gandalf = character(\"Gandalf\", \"wizard\", 8, 0, 6, 9, 7)\n",
    "print(wizard_Gandalf.name)\n",
    "print(wizard_Gandalf.species)\n",
    "print(wizard_Gandalf.health)"
   ]
  },
  {
   "cell_type": "code",
   "execution_count": 176,
   "metadata": {},
   "outputs": [
    {
     "name": "stdout",
     "output_type": "stream",
     "text": [
      "\n",
      "        Character:\n",
      "            name: Gandalf\n",
      "            species: wizard\n",
      "            strength: 8\n",
      "            magic: 0\n",
      "            speed: 6\n",
      "            health: 9\n",
      "            skill: 7 \n",
      "        \n"
     ]
    }
   ],
   "source": [
    "print(wizard_Gandalf)"
   ]
  },
  {
   "cell_type": "code",
   "execution_count": 177,
   "metadata": {},
   "outputs": [
    {
     "name": "stdout",
     "output_type": "stream",
     "text": [
      "Frodo\n",
      "hobbit\n",
      "8\n"
     ]
    }
   ],
   "source": [
    "hobbit_Frodo = character(\"Frodo\", \"hobbit\", 3, 0, 6, 8, 3)\n",
    "print(hobbit_Frodo.name)\n",
    "print(hobbit_Frodo.species)\n",
    "print(hobbit_Frodo.health)"
   ]
  },
  {
   "cell_type": "code",
   "execution_count": 178,
   "metadata": {},
   "outputs": [
    {
     "name": "stdout",
     "output_type": "stream",
     "text": [
      "\n",
      "        Character:\n",
      "            name: Frodo\n",
      "            species: hobbit\n",
      "            strength: 3\n",
      "            magic: 0\n",
      "            speed: 6\n",
      "            health: 8\n",
      "            skill: 3 \n",
      "        \n"
     ]
    }
   ],
   "source": [
    "print(hobbit_Frodo)"
   ]
  },
  {
   "cell_type": "markdown",
   "metadata": {},
   "source": [
    "#### Display output with repr for the developer"
   ]
  },
  {
   "cell_type": "code",
   "execution_count": 179,
   "metadata": {},
   "outputs": [],
   "source": [
    "class character_2():\n",
    "    def __init__(self, name, species, strength=0, magic=0, speed=0, health=0):\n",
    "        self.name = name\n",
    "        self.species = species\n",
    "        self.strength = strength\n",
    "        self.magic = magic\n",
    "        self.speed = speed\n",
    "        self.health = health\n",
    "        \n",
    "    def __repr__(self):\n",
    "        return \"Character: '{name}', '{species}', {strength}, {magic}, {speed}, {health}\"\\\n",
    "               .format(name = self.name, species = self.species, strength = self.strength, \n",
    "                       magic = self.magic, speed = self.speed, health = self.health)\n",
    "        "
   ]
  },
  {
   "cell_type": "code",
   "execution_count": 180,
   "metadata": {},
   "outputs": [
    {
     "data": {
      "text/plain": [
       "Character: 'Gimli', 'dwarf', 8, 2, 6, 8"
      ]
     },
     "execution_count": 180,
     "metadata": {},
     "output_type": "execute_result"
    }
   ],
   "source": [
    "dwarf_gimli = character_2(\"Gimli\", \"dwarf\", 8, 2, 6, 8)\n",
    "dwarf_gimli"
   ]
  },
  {
   "cell_type": "markdown",
   "metadata": {},
   "source": [
    "### Exceptions\n",
    "\n",
    "are checking if a possible value is entered. Predefined exceptions are classes in Python.\n",
    "Customized exceptions are inherited from these standard exceptions"
   ]
  },
  {
   "cell_type": "code",
   "execution_count": 181,
   "metadata": {},
   "outputs": [],
   "source": [
    "def sword_length(name, length):# in cm\n",
    "    if length < 0:\n",
    "        raise ValueError(\"This is not a real sword.\")\n",
    "    return \"{}: {} cm\".format(name, length)"
   ]
  },
  {
   "cell_type": "code",
   "execution_count": 182,
   "metadata": {},
   "outputs": [
    {
     "name": "stdout",
     "output_type": "stream",
     "text": [
      "Excalibur: 200 cm\n"
     ]
    }
   ],
   "source": [
    "print(sword_length(\"Excalibur\", 200))"
   ]
  },
  {
   "cell_type": "code",
   "execution_count": 183,
   "metadata": {},
   "outputs": [],
   "source": [
    "# print(sword_length(\"Gurthang\", -134))\n",
    "#  This returns a ValueError: This is not a real sword."
   ]
  },
  {
   "cell_type": "code",
   "execution_count": 184,
   "metadata": {},
   "outputs": [
    {
     "name": "stdout",
     "output_type": "stream",
     "text": [
      "Anglachel: 170 cm\n"
     ]
    }
   ],
   "source": [
    "print(sword_length(\"Anglachel\", 170))"
   ]
  },
  {
   "cell_type": "markdown",
   "metadata": {},
   "source": [
    "Creating a customized exception using the Exception parent class."
   ]
  },
  {
   "cell_type": "code",
   "execution_count": 185,
   "metadata": {},
   "outputs": [],
   "source": [
    "class swordError(Exception):\n",
    "    pass"
   ]
  },
  {
   "cell_type": "code",
   "execution_count": 186,
   "metadata": {},
   "outputs": [],
   "source": [
    "class Swords:\n",
    "    def __init__(self, name, length, width, sharpness):# sharpeness measured on a scale from 0 to 10\n",
    "        if length <= 0 or width <= 0:\n",
    "            raise swordError(\"This is a counterfeit.\")\n",
    "        else:\n",
    "            self.name, self.length, self.width, self.sharpeness = name, length, width, sharpness"
   ]
  },
  {
   "cell_type": "code",
   "execution_count": 187,
   "metadata": {},
   "outputs": [
    {
     "name": "stdout",
     "output_type": "stream",
     "text": [
      "<__main__.Swords object at 0x000001556B8A4808>\n",
      "Anduril\n",
      "9.2\n"
     ]
    }
   ],
   "source": [
    "Anduril = Swords(\"Anduril\", 198, 15, 9.2)\n",
    "\n",
    "print(Anduril)\n",
    "print(Anduril.name)\n",
    "print(Anduril.sharpeness)"
   ]
  },
  {
   "cell_type": "code",
   "execution_count": 188,
   "metadata": {},
   "outputs": [],
   "source": [
    "# Glamdring = Swords(\"Glamdring\", -5, 13, 10)\n",
    "\n",
    "# print(Glamdring.name)\n",
    "# print(Glamdring.length)\n",
    "\n",
    "# This returns: swordError: This is a counterfeit."
   ]
  },
  {
   "cell_type": "markdown",
   "metadata": {},
   "source": [
    "As length is -5 the object is not constructed.\n",
    "Instead the error message is thrown."
   ]
  },
  {
   "cell_type": "code",
   "execution_count": 189,
   "metadata": {},
   "outputs": [],
   "source": [
    "try:\n",
    "    Swords(\"Aeglos\", 300, 10, 7)\n",
    "except swordError:\n",
    "    Swords(\"Aeglos\", 0, 10, 7)"
   ]
  },
  {
   "cell_type": "markdown",
   "metadata": {},
   "source": [
    "### The might of a character\n",
    "\n",
    "The power of a character is the sum of all qualities times the intangible key dimension of spirit\n",
    "divided by the vanity.<br>\n",
    "A character cannot have a vanity of 0 or lower. In this case an error is raised."
   ]
  },
  {
   "cell_type": "code",
   "execution_count": 190,
   "metadata": {},
   "outputs": [
    {
     "name": "stdout",
     "output_type": "stream",
     "text": [
      "\n",
      "        Character:\n",
      "            name: Boromir\n",
      "            species: human\n",
      "            strength: 8\n",
      "            magic: 0\n",
      "            speed: 6\n",
      "            health: 8\n",
      "            skill: 9 \n",
      "        \n"
     ]
    }
   ],
   "source": [
    "class char_power(character):\n",
    "    pass\n",
    "\n",
    "human_Boromir = character(\"Boromir\", \"human\", 8, 0, 6, 8, 9)\n",
    "\n",
    "print(human_Boromir)"
   ]
  },
  {
   "cell_type": "code",
   "execution_count": 191,
   "metadata": {},
   "outputs": [],
   "source": [
    "class Might(character):\n",
    "    \n",
    "    def __init__(self, name, species, strength, magic, speed, health, skill, spirit, vanity):\n",
    "        character.__init__(self, name, species, strength, magic, speed, health, skill)\n",
    "        self.spirit = spirit\n",
    "        self.vanity = vanity\n",
    "\n",
    "    def might(self):\n",
    "        if self.vanity > 0:\n",
    "                return ((self.strength  + self.magic + self.speed + self.health + self.skill) \\\n",
    "                    * self.spirit) / self.vanity\n",
    "        else:\n",
    "                print(\"Cannot divide by zero or lower!\")\n",
    "        \n",
    "    def __str__(self):\n",
    "        charac_str = \"\"\"\n",
    "        Character:\n",
    "            name: {name}\n",
    "            species: {species}\n",
    "            strength: {strength}\n",
    "            magic: {magic}\n",
    "            speed: {speed}\n",
    "            health: {health}\n",
    "            skill: {skill} \n",
    "            vanity: {vanity}\n",
    "            spirit: {spirit}\n",
    "        \"\"\".format(name = self.name, species = self.species,\n",
    "                   strength = self.strength, magic = self.magic, speed = self.speed,\n",
    "                   health = self.health, skill=self.skill, vanity=self.vanity, spirit=self.spirit)\n",
    "        \n",
    "        return charac_str"
   ]
  },
  {
   "cell_type": "code",
   "execution_count": 192,
   "metadata": {},
   "outputs": [],
   "source": [
    "Boromir_might = Might(\"Boromir\", \"human\", 8, 2, 6, 8, 8, 8, 7)"
   ]
  },
  {
   "cell_type": "code",
   "execution_count": 193,
   "metadata": {},
   "outputs": [
    {
     "name": "stdout",
     "output_type": "stream",
     "text": [
      "\n",
      "        Character:\n",
      "            name: Boromir\n",
      "            species: human\n",
      "            strength: 8\n",
      "            magic: 2\n",
      "            speed: 6\n",
      "            health: 8\n",
      "            skill: 8 \n",
      "            vanity: 7\n",
      "            spirit: 8\n",
      "        \n"
     ]
    }
   ],
   "source": [
    "print(Boromir_might)"
   ]
  },
  {
   "cell_type": "code",
   "execution_count": 194,
   "metadata": {},
   "outputs": [
    {
     "name": "stdout",
     "output_type": "stream",
     "text": [
      "36.5714\n",
      "7\n",
      "8\n"
     ]
    }
   ],
   "source": [
    "print(round(Boromir_might.might(),4))\n",
    "print(Boromir_might.vanity)\n",
    "print(Boromir_might.spirit)"
   ]
  },
  {
   "cell_type": "code",
   "execution_count": 195,
   "metadata": {},
   "outputs": [
    {
     "name": "stdout",
     "output_type": "stream",
     "text": [
      "Cannot divide by zero or lower!\n"
     ]
    }
   ],
   "source": [
    "Aragorn_mights = Might(\"Aragon\", \"human\", 8, 2, 6, 8, 8, 8, 0)\n",
    "Aragorn_mights.might()"
   ]
  },
  {
   "cell_type": "code",
   "execution_count": 196,
   "metadata": {},
   "outputs": [
    {
     "data": {
      "text/plain": [
       "256.0"
      ]
     },
     "execution_count": 196,
     "metadata": {},
     "output_type": "execute_result"
    }
   ],
   "source": [
    "Aragorn_mights_2 = Might(\"Aragon\", \"human\", 8, 2, 6, 8, 8, 8, 1)\n",
    "Aragorn_mights_2.might()"
   ]
  },
  {
   "cell_type": "markdown",
   "metadata": {},
   "source": [
    "Aragorn is like a real king with the power of 256. Sadly Boromir was driven by his vanity.\n",
    "A vain king is a threat to the realm like the mad king of Westeros."
   ]
  },
  {
   "cell_type": "markdown",
   "metadata": {},
   "source": [
    "### Polymorphism and the Liskov substitution principle\n",
    "</a> \n",
    "<p>\n",
    "is using a unified interface for integrating parent and child classes.\n",
    "Without modifying any properties of the program, \n",
    "the parent class is exchangeable with any of the subclasses.\n",
    "The code (functions, attributes) of the parent class are working, \n",
    "when objects are created with the subclass.\n",
    "</p>\n",
    "<p> A simple demonstration of the \n",
    "<a href=\"https://en.wikipedia.org/wiki/Liskov_substitution_principle\" target=\"_blank\">Liskov substitution principle</a> is done below. At first a parent class warrior with a method \"attack\" is created.</p>"
   ]
  },
  {
   "cell_type": "code",
   "execution_count": 197,
   "metadata": {},
   "outputs": [
    {
     "name": "stdout",
     "output_type": "stream",
     "text": [
      "<__main__.Warrior object at 0x000001556B8FD508>\n",
      "Warrior, attack!\n"
     ]
    }
   ],
   "source": [
    "class Warrior:\n",
    "    def attack(self):\n",
    "        print(\"Warrior, attack!\")\n",
    "        \n",
    "Warrior_1 = Warrior()\n",
    "\n",
    "print(Warrior_1)\n",
    "Warrior_1.attack()"
   ]
  },
  {
   "cell_type": "markdown",
   "metadata": {},
   "source": [
    "Then two subclasses are created. Both are inheriting from the parent class warrior and both have own attack methods."
   ]
  },
  {
   "cell_type": "code",
   "execution_count": 198,
   "metadata": {},
   "outputs": [
    {
     "name": "stdout",
     "output_type": "stream",
     "text": [
      "Warrior, attack!\n",
      "Berserker, attack!\n",
      "Berserker, annihilate!\n"
     ]
    }
   ],
   "source": [
    "class Berserker(Warrior):\n",
    "    def attack(self): \n",
    "        Warrior.attack(self)\n",
    "        print(\"Berserker, attack!\")\n",
    "        \n",
    "        \n",
    "    def annihilate(self):\n",
    "        print(\"Berserker, annihilate!\")\n",
    "        \n",
    "Berserker_1 = Berserker()\n",
    "Berserker_1.attack()\n",
    "\n",
    "Berserker_1.annihilate()\n"
   ]
  },
  {
   "cell_type": "markdown",
   "metadata": {},
   "source": [
    "The attack method of the Berserker includes the the attack method ot the parent Warrior.\n",
    "The parent Warrior method is inherited by the child class Berserker.  "
   ]
  },
  {
   "cell_type": "code",
   "execution_count": 199,
   "metadata": {},
   "outputs": [
    {
     "name": "stdout",
     "output_type": "stream",
     "text": [
      "Hoplites attack!\n",
      "Hoplites, close shields!\n"
     ]
    }
   ],
   "source": [
    "class Hoplite(Warrior):\n",
    "    def attack(self):\n",
    "        print(\"Hoplites attack!\")\n",
    "    def shield(self):\n",
    "        print(\"Hoplites, close shields!\")\n",
    "        \n",
    "Hoplite_1 = Hoplite()\n",
    "\n",
    "Hoplite_1.attack()\n",
    "Hoplite_1.shield()"
   ]
  },
  {
   "cell_type": "markdown",
   "metadata": {},
   "source": [
    "In this case the Warrior attack method is a possibility of Hoplite, but not coded."
   ]
  },
  {
   "cell_type": "code",
   "execution_count": 200,
   "metadata": {},
   "outputs": [
    {
     "name": "stdout",
     "output_type": "stream",
     "text": [
      "Warrior, attack!\n",
      "Warrior, attack!\n",
      "Berserker, attack!\n",
      "Hoplites attack!\n"
     ]
    }
   ],
   "source": [
    "for i in [Warrior_1, Berserker_1, Hoplite_1]:\n",
    "    i.attack()"
   ]
  },
  {
   "cell_type": "markdown",
   "metadata": {},
   "source": [
    "#### Violation of the Liskov substitution principle\n",
    "when setting up a battle array. \n",
    "There are two battle arrays discussed here:\n",
    "the rectangle and the square."
   ]
  },
  {
   "cell_type": "code",
   "execution_count": 201,
   "metadata": {},
   "outputs": [],
   "source": [
    "class BattleArray:\n",
    "    pass\n",
    "\n",
    "class RectangleBA(BattleArray):\n",
    "    # in rectangle height and width are different\n",
    "    def __init__(self, h, w):\n",
    "        self.h = h\n",
    "        self.w = w\n",
    "        print (\"Order by commander: set up a rectangle battle array of height {} and width {}!\"\\\n",
    "               .format(self.h, self.w))\n",
    "        \n",
    "class SquareBA(RectangleBA):\n",
    "    # in a square height and width are not different\n",
    "    def __init__(self, w):\n",
    "        self.h = w\n",
    "        self.w = w\n",
    "        print (\"Order by commander: set up a square battle array of width {}!\"\\\n",
    "               .format(self.w))"
   ]
  },
  {
   "cell_type": "code",
   "execution_count": 202,
   "metadata": {},
   "outputs": [
    {
     "name": "stdout",
     "output_type": "stream",
     "text": [
      "Order by commander: set up a rectangle battle array of height 100 and width 1500!\n"
     ]
    }
   ],
   "source": [
    "Dagor_Bragollach = RectangleBA(100, 1500)"
   ]
  },
  {
   "cell_type": "code",
   "execution_count": 203,
   "metadata": {},
   "outputs": [
    {
     "name": "stdout",
     "output_type": "stream",
     "text": [
      "Order by commander: set up a square battle array of width 5!\n"
     ]
    }
   ],
   "source": [
    "Five_armies = SquareBA(5)"
   ]
  },
  {
   "cell_type": "markdown",
   "metadata": {},
   "source": [
    "Trying to set the height explicitly other than width is not possible\n",
    "as in a square height and width are identical. On the contrary the\n",
    "parent inherits a height to the child. It should be possible to set height\n",
    "but then it would not be a square. "
   ]
  },
  {
   "cell_type": "code",
   "execution_count": 204,
   "metadata": {},
   "outputs": [],
   "source": [
    "class RectangleBA_2:\n",
    "    def __init__(self, w,h):\n",
    "      self.w, self.h = w,h\n",
    "\n",
    "# Define set_h to set h      \n",
    "    def set_h(self, h):\n",
    "      self.h = h\n",
    "      \n",
    "# Define set_w to set w          \n",
    "    def set_w(self, w):\n",
    "      self.w =w\n",
    "      \n",
    "      \n",
    "class SquareBA_2(RectangleBA_2):\n",
    "    def __init__(self, w):\n",
    "      self.w, self.h = w, w \n",
    "\n",
    "# Define set_h to set w and h\n",
    "    def set_h(self, h):\n",
    "      self.h = h\n",
    "      self.w = h\n",
    "\n",
    "# Define set_w to set w and h      \n",
    "    def set_w(self, w):\n",
    "      self.h = w\n",
    "      self.w = w "
   ]
  },
  {
   "cell_type": "markdown",
   "metadata": {},
   "source": [
    "Setting h an w explicitly as identical like done above for complying with the definition of a square violates the\n",
    "Liskov substitution principle."
   ]
  },
  {
   "cell_type": "markdown",
   "metadata": {},
   "source": [
    "### Naming Convention of Variables/Attributes in OOP\n",
    "\n",
    "<p>\n",
    "In many programming language the access to public classes can be restricted for protection of the code.\n",
    "However in Phyton the internal, private use is only indicated and the fellow developer is \n",
    "trusted to handle the code responsible.\n",
    "</p>\n",
    "\n",
    "<p>\n",
    "\"Variables/Attributes intended for private use by the class or module are prefixed with a single underscore e.g. _attr. Note that this is merely a convention, naming an attribute this way does not make it unusable by external classes and modules. It is merely a hint for fellow developers.\"<br>\n",
    "<a href=\"https://www.djangospin.com/naming-convention-variables-attributes/\" target=\"_blank\">Naming conventions for attributes</a> \n",
    "</p> \n",
    "\n",
    "<p>\n",
    "The example below checks the number of troops in a legion and takes action.\n",
    "</p> "
   ]
  },
  {
   "cell_type": "code",
   "execution_count": 205,
   "metadata": {},
   "outputs": [],
   "source": [
    "class Legion:\n",
    "    # the underscores signal these are internal, private attributes\n",
    "    _MAX_INFANTRY = 4200\n",
    "    _MIN_INFANTRY = 3800\n",
    "    _MAX_CAVAlARY = 300\n",
    "    _MIN_CAVAlARY = 200\n",
    "    \n",
    "    def __init__(self, title, infantry, cavalary):\n",
    "        self.title = title\n",
    "        self.infantry = infantry\n",
    "        self.cavalary = cavalary\n",
    "    \n",
    "    # The underscores signal a private function not of the public interface\n",
    "    def _is_legion(self):\n",
    "        if self.infantry > Legion._MAX_INFANTRY or self.cavalary > Legion._MAX_CAVAlARY:\n",
    "            print(\"Too many troops for a legion. Give off troops.\")\n",
    "\n",
    "        elif self.infantry < Legion._MIN_INFANTRY or self.cavalary < Legion._MIN_CAVAlARY:\n",
    "            print(\"Not enough troops for a legion. Request reinforcement.\")\n",
    "            \n",
    "        else:\n",
    "            print(\"Everthing good! Go on and kill!\")\n",
    "    # print output\n",
    "    def __str__(self):\n",
    "        legion_str = \"\"\" \n",
    "        \n",
    "        Legion:\n",
    "            Title:{title}\n",
    "            Infantry:{infantry}\n",
    "            Cavalary:{cavalary}\n",
    "            \n",
    "        \"\"\".format(title = self.title,\n",
    "                   infantry = self.infantry,\n",
    "                   cavalary = self.cavalary)\n",
    "        return legion_str"
   ]
  },
  {
   "cell_type": "code",
   "execution_count": 206,
   "metadata": {},
   "outputs": [
    {
     "name": "stdout",
     "output_type": "stream",
     "text": [
      " \n",
      "        \n",
      "        Legion:\n",
      "            Title:Legion XI\n",
      "            Infantry:5000\n",
      "            Cavalary:600\n",
      "            \n",
      "        \n"
     ]
    }
   ],
   "source": [
    "legion_XI = Legion(\"Legion XI\", 5000, 600)\n",
    "print(legion_XI)"
   ]
  },
  {
   "cell_type": "code",
   "execution_count": 207,
   "metadata": {},
   "outputs": [
    {
     "name": "stdout",
     "output_type": "stream",
     "text": [
      "Too many troops for a legion. Give off troops.\n"
     ]
    }
   ],
   "source": [
    "legion_XI._is_legion()"
   ]
  },
  {
   "cell_type": "code",
   "execution_count": 208,
   "metadata": {},
   "outputs": [
    {
     "name": "stdout",
     "output_type": "stream",
     "text": [
      " \n",
      "        \n",
      "        Legion:\n",
      "            Title:Legion V\n",
      "            Infantry:900\n",
      "            Cavalary:50\n",
      "            \n",
      "        \n",
      "Not enough troops for a legion. Request reinforcement.\n"
     ]
    }
   ],
   "source": [
    "legion_V = Legion(\"Legion V\", 900, 50)\n",
    "print(legion_V)\n",
    "\n",
    "legion_V._is_legion()"
   ]
  },
  {
   "cell_type": "code",
   "execution_count": 209,
   "metadata": {},
   "outputs": [
    {
     "name": "stdout",
     "output_type": "stream",
     "text": [
      " \n",
      "        \n",
      "        Legion:\n",
      "            Title:Legion XX\n",
      "            Infantry:4200\n",
      "            Cavalary:300\n",
      "            \n",
      "        \n",
      "Everthing good! Go on and kill!\n"
     ]
    }
   ],
   "source": [
    "legion_XX = Legion(\"Legion XX\", 4200, 300)\n",
    "print(legion_XX)\n",
    "\n",
    "legion_XX._is_legion()"
   ]
  },
  {
   "cell_type": "markdown",
   "metadata": {},
   "source": [
    "#### Restricting access to attributes\n",
    "\n",
    "<p>\n",
    "For example given a character of class legionnaire with a certain strength of 2.\n",
    "A legionnaire cannot have the strength of an elvish hero like Glorfindel, who might have a strength of 10.\n",
    "As a grunt a legionnaire should always strength 3.\n",
    "You want to protect the attribute strength in the class legionnaire.\n",
    "However the strength of a legionnaire object is easily changed with assignment.\n",
    "In this case attribute access should be restricted.\n",
    "</p> \n",
    "\n"
   ]
  },
  {
   "cell_type": "code",
   "execution_count": 210,
   "metadata": {},
   "outputs": [],
   "source": [
    "class legionnaire:\n",
    "    def __init__(self, name, strength=2):\n",
    "        self.name = name\n",
    "        self.strength = strength\n",
    "        \n",
    "    def __str__(self):\n",
    "        legionnaire_str = \"\"\" \n",
    "            Legionnnaire:\n",
    "                Name:{name}\n",
    "                Strength:{strength}\n",
    "        \"\"\".format(name=self.name, strength=self.strength)\n",
    "        \n",
    "        return legionnaire_str"
   ]
  },
  {
   "cell_type": "code",
   "execution_count": 211,
   "metadata": {},
   "outputs": [
    {
     "name": "stdout",
     "output_type": "stream",
     "text": [
      " \n",
      "            Legionnnaire:\n",
      "                Name:BrutusMinimus\n",
      "                Strength:2\n",
      "        \n"
     ]
    }
   ],
   "source": [
    "BrutusMinimus = legionnaire(\"BrutusMinimus\")\n",
    "print(BrutusMinimus)"
   ]
  },
  {
   "cell_type": "code",
   "execution_count": 212,
   "metadata": {},
   "outputs": [
    {
     "name": "stdout",
     "output_type": "stream",
     "text": [
      " \n",
      "            Legionnnaire:\n",
      "                Name:BrutusMinimus\n",
      "                Strength:102\n",
      "        \n"
     ]
    }
   ],
   "source": [
    "# increase strength of BrutusMinimus by 100 per magic assignment\n",
    "# this should not be possible\n",
    "BrutusMinimus.strength = BrutusMinimus.strength + 100\n",
    "print(BrutusMinimus)"
   ]
  },
  {
   "cell_type": "markdown",
   "metadata": {},
   "source": [
    "Strength is accessible and modifiable. This is unsatisfying.<br>\n",
    "On the other hand Python gives not the option for direct restrictions.<br>\n",
    "A workaround is raising an error message."
   ]
  },
  {
   "cell_type": "code",
   "execution_count": 213,
   "metadata": {},
   "outputs": [],
   "source": [
    "class legionnaire_2:\n",
    "    \n",
    "    # creating an internal attribute\n",
    "    def __init__(self, name, strength_2):\n",
    "        # underscore signals a restricted attribute\n",
    "        self._strength = strength_2\n",
    "        self.name = name\n",
    "        \n",
    "    # this methods returns not more then actual restricted attribute\n",
    "    @property\n",
    "    def strength(self):\n",
    "        return self._strength\n",
    "    \n",
    "    @strength.setter\n",
    "    def strength(self, strength_2):\n",
    "        if strength_2 != 2:\n",
    "            raise ValueError(\"Wrong strength for a legionnaire!\")\n",
    "        self._strength = strength_2\n",
    "            \n",
    "    def __str__(self):\n",
    "        leg_2 = \"\"\"\n",
    "        \n",
    "        Legionnnaire:\n",
    "            Name:{name}\n",
    "            Strength:{strength}\n",
    "            \n",
    "        \"\"\".format(name=self.name, strength=self._strength)\n",
    "        return leg_2\n",
    "    \n",
    "    "
   ]
  },
  {
   "cell_type": "code",
   "execution_count": 214,
   "metadata": {},
   "outputs": [
    {
     "name": "stdout",
     "output_type": "stream",
     "text": [
      "\n",
      "        \n",
      "        Legionnnaire:\n",
      "            Name:Augustulus\n",
      "            Strength:2\n",
      "            \n",
      "        \n"
     ]
    }
   ],
   "source": [
    "Augustulus = legionnaire_2(\"Augustulus\", 2)\n",
    "print(Augustulus)"
   ]
  },
  {
   "cell_type": "markdown",
   "metadata": {},
   "source": [
    "Accessing the property with the wrong strength throws now an error."
   ]
  },
  {
   "cell_type": "code",
   "execution_count": 215,
   "metadata": {},
   "outputs": [],
   "source": [
    "# Augustulus.strength = 40000"
   ]
  },
  {
   "cell_type": "code",
   "execution_count": null,
   "metadata": {},
   "outputs": [],
   "source": []
  }
 ],
 "metadata": {
  "kernelspec": {
   "display_name": "Python 3",
   "language": "python",
   "name": "python3"
  },
  "language_info": {
   "codemirror_mode": {
    "name": "ipython",
    "version": 3
   },
   "file_extension": ".py",
   "mimetype": "text/x-python",
   "name": "python",
   "nbconvert_exporter": "python",
   "pygments_lexer": "ipython3",
   "version": "3.7.4"
  }
 },
 "nbformat": 4,
 "nbformat_minor": 4
}
